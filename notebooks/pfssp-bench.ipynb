{
 "cells": [
  {
   "cell_type": "markdown",
   "metadata": {},
   "source": [
    "# Permutation Flow-Shop Scheduling Problem\n",
    "\n",
    "This is a variant of the Flot-shop scheduling problem (FSSP) in which the sequence of jobs is the same in every machine.\n",
    "\n",
    "$$\n",
    " \\begin{align}\n",
    "     \\text{min} \\quad & C_{\\text{max}} \\\\\n",
    "     \\text{s.t.} \\quad & x_{m-1, j} + p_{m, j} \\leq x_{m, j}\n",
    "         & \\forall ~ j \\in J; m \\in (2, ..., |M|)\\\\\n",
    "     & x_{m, j} + p_{m, j} \\leq x_{m, k} \\lor x_{m, k} + p_{m, k} \\leq x_{m, j}\n",
    "         & \\forall ~ j \\in J; k \\in J, j \\neq k\\\\\n",
    "     & x_{|M|, j} + p_{|M|, j} \\leq C_{\\text{max}}\n",
    "         & \\forall ~ j \\in J\\\\\n",
    "     & x_{m, j} \\geq 0 & \\forall ~ j \\in J; m \\in M\\\\\n",
    "     & z_{j, k} \\in \\{0, 1\\} & \\forall ~ j \\in J; k \\in J, j \\neq k\\\\\n",
    " \\end{align}\n",
    " $$\n",
    "\n",
    " You can compare this implementation to MILP solvers at the [end of the notebook](#bonus---milp-model)."
   ]
  },
  {
   "cell_type": "code",
   "execution_count": 1,
   "metadata": {},
   "outputs": [],
   "source": [
    "import json\n",
    "\n",
    "from bnbprob.pfssp import CallbackBnB, PermFlowShopLazy, plot_gantt\n",
    "from bnbprob.pfssp.cython.problem import PermFlowShopLazy as CyPermFlowShopLazy\n",
    "from bnbpy import configure_logfile"
   ]
  },
  {
   "cell_type": "code",
   "execution_count": 2,
   "metadata": {},
   "outputs": [],
   "source": [
    "configure_logfile(\"pfssp-bench.log\", mode=\"w\")"
   ]
  },
  {
   "cell_type": "code",
   "execution_count": 3,
   "metadata": {},
   "outputs": [],
   "source": [
    "with open(\"./../data/flow-shop/reC07.json\", mode=\"r\", encoding=\"utf8\") as f:\n",
    "    p = json.load(f)"
   ]
  },
  {
   "cell_type": "code",
   "execution_count": 4,
   "metadata": {},
   "outputs": [],
   "source": [
    "import time\n",
    "\n",
    "\n",
    "class MyFSSP(CyPermFlowShopLazy):\n",
    "    branch_time = 0\n",
    "    lb1_time = 0\n",
    "    lb2_time = 0\n",
    "    ls_time = 0\n",
    "\n",
    "    # def warmstart(self):\n",
    "    #     pass\n",
    "\n",
    "    def branch(self):\n",
    "        s = time.time()\n",
    "        out = super().branch()\n",
    "        type(self).branch_time += (time.time() - s)\n",
    "        return out\n",
    "\n",
    "    def local_search(self):\n",
    "        s = time.time()\n",
    "        out = super().local_search()\n",
    "        type(self).ls_time += (time.time() - s)\n",
    "        return out\n",
    "\n",
    "    def calc_bound(self):\n",
    "        s = time.time()\n",
    "        out = super().calc_bound()\n",
    "        type(self).lb1_time += (time.time() - s)\n",
    "        return out\n",
    "\n",
    "    def bound_upgrade(self):\n",
    "        s = time.time()\n",
    "        out = super().bound_upgrade()\n",
    "        type(self).lb2_time += (time.time() - s)\n",
    "        return out"
   ]
  },
  {
   "cell_type": "code",
   "execution_count": 5,
   "metadata": {},
   "outputs": [],
   "source": [
    "problem_sm = MyFSSP.from_p(p, constructive='neh')\n",
    "bnb_sm = CallbackBnB(eval_node=\"in\", rtol=0.0001, restart_freq=200)"
   ]
  },
  {
   "cell_type": "code",
   "execution_count": 6,
   "metadata": {},
   "outputs": [
    {
     "name": "stdout",
     "output_type": "stream",
     "text": [
      "Status: OPTIMAL | Cost: 1566 | LB: 1566\n"
     ]
    }
   ],
   "source": [
    "sol_sm = bnb_sm.solve(\n",
    "    problem_sm, maxiter=1000000, timelimit=600\n",
    ")\n",
    "print(sol_sm)"
   ]
  },
  {
   "cell_type": "code",
   "execution_count": 8,
   "metadata": {},
   "outputs": [
    {
     "name": "stdout",
     "output_type": "stream",
     "text": [
      "12.298200130462646\n",
      "1.00471830368042\n",
      "0.34148263931274414\n",
      "2.2007603645324707\n"
     ]
    }
   ],
   "source": [
    "print(problem_sm.branch_time)\n",
    "print(problem_sm.ls_time)\n",
    "print(problem_sm.lb1_time)\n",
    "print(problem_sm.lb2_time)"
   ]
  },
  {
   "cell_type": "code",
   "execution_count": 15,
   "metadata": {},
   "outputs": [],
   "source": [
    "from array import array"
   ]
  },
  {
   "cell_type": "code",
   "execution_count": 18,
   "metadata": {},
   "outputs": [],
   "source": [
    "import numpy as np"
   ]
  },
  {
   "cell_type": "code",
   "execution_count": 22,
   "metadata": {},
   "outputs": [
    {
     "data": {
      "text/plain": [
       "array('i', [0, 1])"
      ]
     },
     "execution_count": 22,
     "metadata": {},
     "output_type": "execute_result"
    }
   ],
   "source": [
    "array('i', np.array([0, 1], dtype=np.intc)).__copy__()"
   ]
  },
  {
   "cell_type": "code",
   "execution_count": 14,
   "metadata": {},
   "outputs": [
    {
     "data": {
      "text/plain": [
       "2174086555040"
      ]
     },
     "execution_count": 14,
     "metadata": {},
     "output_type": "execute_result"
    }
   ],
   "source": [
    "id(bnb_sm.queue[-1][-1].solution.free_jobs[0].p)"
   ]
  },
  {
   "cell_type": "code",
   "execution_count": 13,
   "metadata": {},
   "outputs": [
    {
     "data": {
      "text/plain": [
       "2174086555040"
      ]
     },
     "execution_count": 13,
     "metadata": {},
     "output_type": "execute_result"
    }
   ],
   "source": [
    "id(bnb_sm.queue[0][-1].solution.free_jobs[0].p)"
   ]
  },
  {
   "cell_type": "code",
   "execution_count": 22,
   "metadata": {},
   "outputs": [
    {
     "data": {
      "image/png": "[encoded data removed]",
      "text/plain": [
       "<Figure size 960x360 with 1 Axes>"
      ]
     },
     "metadata": {},
     "output_type": "display_data"
    }
   ],
   "source": [
    "plot_gantt(sol_sm.sequence, dpi=120, seed=42, figsize=[8, 3])"
   ]
  },
  {
   "cell_type": "code",
   "execution_count": 11,
   "metadata": {},
   "outputs": [
    {
     "data": {
      "text/plain": [
       "18.386124616877716"
      ]
     },
     "execution_count": 11,
     "metadata": {},
     "output_type": "execute_result"
    }
   ],
   "source": [
    "# import math\n",
    "\n",
    "# math.log10(math.factorial(20))"
   ]
  },
  {
   "cell_type": "markdown",
   "metadata": {},
   "source": [
    "In this implmentation lower bounds are computed by\n",
    "the max of a single machine and\n",
    "a two machine relaxations.\n",
    "\n",
    "The bounds for single and two-machine problems are described\n",
    "by Potts (1980), also implemented by Ladhari & Haouari (2005),\n",
    "therein described as 'LB1' and 'LB5'.\n",
    "\n",
    "The warmstart strategy is proposed by Palmer (1965).\n",
    "\n",
    "## References\n",
    "\n",
    "Ladhari, T., & Haouari, M. (2005). A computational study of\n",
    "the permutation flow shop problem based on a tight lower bound.\n",
    "Computers & Operations Research, 32(7), 1831-1847.\n",
    "\n",
    "Potts, C. N. (1980). An adaptive branching rule for the permutation\n",
    "flow-shop problem. European Journal of Operational Research, 5(1), 19-25.\n",
    "\n",
    "Palmer, D. S. (1965). Sequencing jobs through a multi-stage process\n",
    "in the minimum total time—a quick method of obtaining a near optimum.\n",
    "Journal of the Operational Research Society, 16(1), 101-107"
   ]
  },
  {
   "cell_type": "markdown",
   "metadata": {},
   "source": [
    "import pyomo.environ as pyo\n",
    "\n",
    "model = pyo.ConcreteModel()\n",
    "\n",
    "# Sets for machines, jobs, horizon, and job sequences\n",
    "model.M = pyo.Set(initialize=range(len(p[0])))\n",
    "model.J = pyo.Set(initialize=range(len(p)))\n",
    "model.K = pyo.Set(initialize=range(len(p)))\n",
    "\n",
    "# Parameters\n",
    "model.p = pyo.Param(model.J, model.M, initialize=lambda _, m, j: p[m][j])\n",
    "model.V = pyo.Param(initialize=sum(pim for pi in p for pim in pi))\n",
    "\n",
    "# Variables\n",
    "model.x = pyo.Var(model.J, model.K, within=pyo.Binary)\n",
    "model.h = pyo.Var(model.M, model.K, within=pyo.NonNegativeReals)\n",
    "model.C = pyo.Var(within=pyo.NonNegativeReals)\n",
    "\n",
    "\n",
    "# Constraints\n",
    "def cstr_position(model, k):\n",
    "    return sum(model.x[j, k] for j in model.J) == 1\n",
    "\n",
    "\n",
    "def cstr_job(model, j):\n",
    "    return sum(model.x[j, k] for k in model.K) == 1\n",
    "\n",
    "\n",
    "def cstr_seq(model, m, k):\n",
    "    if k == model.K.last():\n",
    "        return pyo.Constraint.Skip\n",
    "    return (\n",
    "        model.h[m, k] + sum(model.p[j, m] * model.x[j, k] for j in model.J)\n",
    "        <= model.h[m, k + 1]\n",
    "    )\n",
    "\n",
    "\n",
    "def cstr_precede(model, m, k):\n",
    "    if m == model.M.last():\n",
    "        return pyo.Constraint.Skip\n",
    "    return (\n",
    "        model.h[m, k] + sum(model.p[j, m] * model.x[j, k] for j in model.J)\n",
    "        <= model.h[m + 1, k]\n",
    "    )\n",
    "\n",
    "\n",
    "def cstr_comp_precede(model, j, k):\n",
    "    if j == k:\n",
    "        return model.z[j, k] + model.z[k, j] == 0.0\n",
    "    return model.z[j, k] + model.z[k, j] == 1.0\n",
    "\n",
    "\n",
    "def cstr_total_time(model, m):\n",
    "    k = model.K.last()\n",
    "    return (\n",
    "        model.h[m, k] + sum(model.p[j, m] * model.x[j, k] for j in model.J)\n",
    "        <= model.C\n",
    "    )\n",
    "\n",
    "\n",
    "model.cstr_position = pyo.Constraint(model.K, rule=cstr_position)\n",
    "model.cstr_job = pyo.Constraint(model.K, rule=cstr_job)\n",
    "model.cstr_seq = pyo.Constraint(model.M, model.K, rule=cstr_seq)\n",
    "model.cstr_precede = pyo.Constraint(model.M, model.K, rule=cstr_precede)\n",
    "model.cstr_total_time = pyo.Constraint(model.M, rule=cstr_total_time)\n",
    "\n",
    "\n",
    "# Objective\n",
    "model.obj = pyo.Objective(expr=model.C, sense=pyo.minimize)\n",
    "\n",
    "# HiGHS\n",
    "# solver = pyo.SolverFactory('appsi_highs')\n",
    "# solver.options['mip_heuristic_effort'] = 0.1\n",
    "# solver.options['time_limit'] = 120\n",
    "# solver.options['log_file'] = 'Highs.log'\n",
    "# solver.solve(model, tee=True)\n",
    "\n",
    "# Gurobi\n",
    "solver = pyo.SolverFactory(\"gurobi\", solver_io=\"python\")\n",
    "solver.options[\"Heuristics\"] = 0.2\n",
    "solver.options[\"Cuts\"] = 2\n",
    "solver.options[\"TimeLimit\"] = 300\n",
    "solver.solve(model, tee=True)"
   ]
  },
  {
   "cell_type": "markdown",
   "metadata": {},
   "source": [
    "## Bonus - MILP Model\n",
    "\n",
    "This is the usual Disjunctive MILP model as an alternative to compare performance.\n",
    "\n",
    "### Position-based model\n",
    "\n",
    "```python\n",
    "import pyomo.environ as pyo\n",
    "\n",
    "model = pyo.ConcreteModel()\n",
    "\n",
    "# Sets for machines, jobs, horizon, and job sequences\n",
    "model.M = pyo.Set(initialize=range(len(p[0])))\n",
    "model.J = pyo.Set(initialize=range(len(p)))\n",
    "model.K = pyo.Set(initialize=range(len(p)))\n",
    "\n",
    "# Parameters\n",
    "model.p = pyo.Param(model.J, model.M, initialize=lambda _, m, j: p[m][j])\n",
    "model.V = pyo.Param(initialize=sum(pim for pi in p for pim in pi))\n",
    "\n",
    "# Variables\n",
    "model.x = pyo.Var(model.J, model.K, within=pyo.Binary)\n",
    "model.h = pyo.Var(model.M, model.K, within=pyo.NonNegativeReals)\n",
    "model.C = pyo.Var(within=pyo.NonNegativeReals)\n",
    "\n",
    "\n",
    "# Constraints\n",
    "def cstr_position(model, k):\n",
    "    return sum(model.x[j, k] for j in model.J) == 1\n",
    "\n",
    "\n",
    "def cstr_job(model, j):\n",
    "    return sum(model.x[j, k] for k in model.K) == 1\n",
    "\n",
    "\n",
    "def cstr_seq(model, m, k):\n",
    "    if k == model.K.last():\n",
    "        return pyo.Constraint.Skip\n",
    "    return (\n",
    "        model.h[m, k] + sum(model.p[j, m] * model.x[j, k] for j in model.J)\n",
    "        <= model.h[m, k + 1]\n",
    "    )\n",
    "\n",
    "\n",
    "def cstr_precede(model, m, k):\n",
    "    if m == model.M.last():\n",
    "        return pyo.Constraint.Skip\n",
    "    return (\n",
    "        model.h[m, k] + sum(model.p[j, m] * model.x[j, k] for j in model.J)\n",
    "        <= model.h[m + 1, k]\n",
    "    )\n",
    "\n",
    "\n",
    "def cstr_comp_precede(model, j, k):\n",
    "    if j == k:\n",
    "        return model.z[j, k] + model.z[k, j] == 0.0\n",
    "    return model.z[j, k] + model.z[k, j] == 1.0\n",
    "\n",
    "\n",
    "def cstr_total_time(model, m):\n",
    "    k = model.K.last()\n",
    "    return (\n",
    "        model.h[m, k] + sum(model.p[j, m] * model.x[j, k] for j in model.J)\n",
    "        <= model.C\n",
    "    )\n",
    "\n",
    "\n",
    "model.cstr_position = pyo.Constraint(model.K, rule=cstr_position)\n",
    "model.cstr_job = pyo.Constraint(model.K, rule=cstr_job)\n",
    "model.cstr_seq = pyo.Constraint(model.M, model.K, rule=cstr_seq)\n",
    "model.cstr_precede = pyo.Constraint(model.M, model.K, rule=cstr_precede)\n",
    "model.cstr_total_time = pyo.Constraint(model.M, rule=cstr_total_time)\n",
    "\n",
    "\n",
    "# Objective\n",
    "model.obj = pyo.Objective(expr=model.C, sense=pyo.minimize)\n",
    "\n",
    "# HiGHS\n",
    "solver = pyo.SolverFactory('appsi_highs')\n",
    "solver.options['mip_heuristic_effort'] = 0.1\n",
    "solver.options['time_limit'] = 120\n",
    "solver.options['log_file'] = 'Highs.log'\n",
    "solver.solve(model, tee=True)\n",
    "\n",
    "# Gurobi\n",
    "solver = pyo.SolverFactory(\"gurobi\", solver_io=\"python\")\n",
    "solver.options[\"Heuristics\"] = 0.2\n",
    "solver.options[\"Cuts\"] = 2\n",
    "solver.options[\"TimeLimit\"] = 120\n",
    "solver.solve(model, tee=True)\n",
    "```\n",
    "\n",
    "\n",
    "### Disjunctive model\n",
    "\n",
    "In experiments with 15 jobs and 8 machines, the Lazy implementation solved in 24s whereas with a time limit of 120s Gurobi could not reach the optimal solution (with a MIP gap of nearly 25%).\n",
    "\n",
    "```python\n",
    "import pyomo.environ as pyo\n",
    "\n",
    "model = pyo.ConcreteModel()\n",
    "\n",
    "# Sets for machines, jobs, horizon, and job sequences\n",
    "model.M = pyo.Set(initialize=range(len(p[0])))\n",
    "model.J = pyo.Set(initialize=range(len(p)))\n",
    "\n",
    "# Parameters\n",
    "model.p = pyo.Param(model.J, model.M, initialize=lambda _, m, j: p[m][j])\n",
    "model.V = pyo.Param(initialize=sum(pim for pi in p for pim in pi))\n",
    "\n",
    "# Variables\n",
    "model.x = pyo.Var(model.J, model.M, within=pyo.NonNegativeReals)\n",
    "model.z = pyo.Var(model.J, model.J, within=pyo.Binary)\n",
    "model.C = pyo.Var(within=pyo.NonNegativeReals)\n",
    "\n",
    "\n",
    "# Constraints\n",
    "def cstr_seq(model, j, m):\n",
    "    if m == model.M.last():\n",
    "        return pyo.Constraint.Skip\n",
    "    return model.x[j, m] + model.p[j, m] <= model.x[j, m + 1]\n",
    "\n",
    "\n",
    "def cstr_precede(model, j, k, m):\n",
    "    return model.x[j, m] + model.p[j, m] <= model.x[k, m] + model.V * (\n",
    "        1 - model.z[j, k]\n",
    "    )\n",
    "\n",
    "\n",
    "def cstr_comp_precede(model, j, k):\n",
    "    if j == k:\n",
    "        return model.z[j, k] + model.z[k, j] == 0.0\n",
    "    return model.z[j, k] + model.z[k, j] == 1.0\n",
    "\n",
    "\n",
    "def cstr_total_time(model, j, m):\n",
    "    return model.x[j, m] + model.p[j, m] <= model.C\n",
    "\n",
    "\n",
    "model.cstr_seq = pyo.Constraint(model.J, model.M, rule=cstr_seq)\n",
    "model.cstr_precede = pyo.Constraint(\n",
    "    model.J, model.J, model.M, rule=cstr_precede\n",
    ")\n",
    "model.cstr_comp_precede = pyo.Constraint(\n",
    "    model.J, model.J, rule=cstr_comp_precede\n",
    ")\n",
    "model.cstr_total_time = pyo.Constraint(model.J, model.M, rule=cstr_total_time)\n",
    "\n",
    "\n",
    "# Objective\n",
    "model.obj = pyo.Objective(expr=model.C, sense=pyo.minimize)\n",
    "\n",
    "# HiGHS\n",
    "solver = pyo.SolverFactory(\"appsi_highs\")\n",
    "solver.options[\"mip_heuristic_effort\"] = 0.1\n",
    "solver.options[\"time_limit\"] = 120\n",
    "solver.options[\"log_file\"] = \"Highs.log\"\n",
    "solver.solve(model, tee=True)\n",
    "\n",
    "# Gurobi\n",
    "solver = pyo.SolverFactory(\"gurobi\", solver_io=\"python\")\n",
    "solver.options[\"Heuristics\"] = 0.2\n",
    "solver.options[\"Cuts\"] = 2\n",
    "solver.options[\"TimeLimit\"] = 120\n",
    "solver.solve(model, tee=True)\n",
    "```"
   ]
  },
  {
   "cell_type": "code",
   "execution_count": null,
   "metadata": {},
   "outputs": [],
   "source": [
    "import pyomo.environ as pyo\n",
    "\n",
    "model = pyo.ConcreteModel()\n",
    "\n",
    "# Sets for machines, jobs, horizon, and job sequences\n",
    "model.M = pyo.Set(initialize=range(len(p[0])))\n",
    "model.J = pyo.Set(initialize=range(len(p)))\n",
    "\n",
    "# Parameters\n",
    "model.p = pyo.Param(model.J, model.M, initialize=lambda _, m, j: p[m][j])\n",
    "model.V = pyo.Param(initialize=sum(pim for pi in p for pim in pi))\n",
    "\n",
    "# Variables\n",
    "model.x = pyo.Var(model.J, model.M, within=pyo.NonNegativeReals)\n",
    "model.z = pyo.Var(model.J, model.J, within=pyo.Binary)\n",
    "model.C = pyo.Var(within=pyo.NonNegativeReals)\n",
    "\n",
    "\n",
    "# Constraints\n",
    "def cstr_seq(model, j, m):\n",
    "    if m == model.M.last():\n",
    "        return pyo.Constraint.Skip\n",
    "    return model.x[j, m] + model.p[j, m] <= model.x[j, m + 1]\n",
    "\n",
    "\n",
    "def cstr_precede(model, j, k, m):\n",
    "    return model.x[j, m] + model.p[j, m] <= model.x[k, m] + model.V * (\n",
    "        1 - model.z[j, k]\n",
    "    )\n",
    "\n",
    "\n",
    "def cstr_comp_precede(model, j, k):\n",
    "    if j == k:\n",
    "        return model.z[j, k] + model.z[k, j] == 0.0\n",
    "    return model.z[j, k] + model.z[k, j] == 1.0\n",
    "\n",
    "\n",
    "def cstr_total_time(model, j, m):\n",
    "    return model.x[j, m] + model.p[j, m] <= model.C\n",
    "\n",
    "\n",
    "model.cstr_seq = pyo.Constraint(model.J, model.M, rule=cstr_seq)\n",
    "model.cstr_precede = pyo.Constraint(\n",
    "    model.J, model.J, model.M, rule=cstr_precede\n",
    ")\n",
    "model.cstr_comp_precede = pyo.Constraint(\n",
    "    model.J, model.J, rule=cstr_comp_precede\n",
    ")\n",
    "model.cstr_total_time = pyo.Constraint(model.J, model.M, rule=cstr_total_time)\n",
    "\n",
    "\n",
    "# Objective\n",
    "model.obj = pyo.Objective(expr=model.C, sense=pyo.minimize)\n",
    "\n",
    "# HiGHS\n",
    "# solver = pyo.SolverFactory(\"appsi_highs\")\n",
    "# solver.options[\"mip_heuristic_effort\"] = 0.1\n",
    "# solver.options[\"time_limit\"] = 120\n",
    "# solver.options[\"log_file\"] = \"Highs.log\"\n",
    "# solver.solve(model, tee=True)\n",
    "\n",
    "# Gurobi\n",
    "solver = pyo.SolverFactory(\"gurobi\", solver_io=\"python\")\n",
    "solver.options[\"Heuristics\"] = 0.2\n",
    "solver.options[\"Cuts\"] = 2\n",
    "solver.options[\"TimeLimit\"] = 120\n",
    "solver.solve(model, tee=True)"
   ]
  },
  {
   "cell_type": "markdown",
   "metadata": {},
   "source": []
  }
 ],
 "metadata": {
  "kernelspec": {
   "display_name": ".venv",
   "language": "python",
   "name": "python3"
  },
  "language_info": {
   "codemirror_mode": {
    "name": "ipython",
    "version": 3
   },
   "file_extension": ".py",
   "mimetype": "text/x-python",
   "name": "python",
   "nbconvert_exporter": "python",
   "pygments_lexer": "ipython3",
   "version": "3.11.9"
  }
 },
 "nbformat": 4,
 "nbformat_minor": 2
}
