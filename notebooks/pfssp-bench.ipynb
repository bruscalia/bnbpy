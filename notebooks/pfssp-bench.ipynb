{
 "cells": [
  {
   "cell_type": "markdown",
   "metadata": {},
   "source": [
    "# Permutation Flow-Shop Scheduling Problem\n",
    "\n",
    "This is a variant of the Flot-shop scheduling problem (FSSP) in which the sequence of jobs is the same in every machine.\n",
    "\n",
    "$$\n",
    " \\begin{align}\n",
    "     \\text{min} \\quad & C_{\\text{max}} \\\\\n",
    "     \\text{s.t.} \\quad & x_{m-1, j} + p_{m, j} \\leq x_{m, j}\n",
    "         & \\forall ~ j \\in J; m \\in (2, ..., |M|)\\\\\n",
    "     & x_{m, j} + p_{m, j} \\leq x_{m, k} \\lor x_{m, k} + p_{m, k} \\leq x_{m, j}\n",
    "         & \\forall ~ j \\in J; k \\in J, j \\neq k\\\\\n",
    "     & x_{|M|, j} + p_{|M|, j} \\leq C_{\\text{max}}\n",
    "         & \\forall ~ j \\in J\\\\\n",
    "     & x_{m, j} \\geq 0 & \\forall ~ j \\in J; m \\in M\\\\\n",
    "     & z_{j, k} \\in \\{0, 1\\} & \\forall ~ j \\in J; k \\in J, j \\neq k\\\\\n",
    " \\end{align}\n",
    " $$\n",
    "\n",
    " You can compare this implementation to MILP solvers at the [end of the notebook](#bonus---milp-model)."
   ]
  },
  {
   "cell_type": "code",
   "execution_count": 1,
   "metadata": {},
   "outputs": [],
   "source": [
    "import json\n",
    "\n",
    "from bnbprob.pfssp import CallbackBnB, ExpBnB, LazyBnB, PermFlowShopLazy, plot_gantt\n",
    "from bnbprob.pfssp.cython.heuristics import (\n",
    "    local_search,\n",
    "    neh_constructive,\n",
    "    quick_constructive,\n",
    ")\n",
    "from bnbprob.pfssp.cython.permutation import Permutation\n",
    "\n",
    "# from bnbprob.pfssp.cython.problem import PermFlowShopLazy as CyPermFlowShopLazy\n",
    "from bnbprob.pfssp.cython.problem import PermFlowShopLazy as CyPermFlowShopLazy, FlowSolution\n",
    "from bnbpy import configure_logfile"
   ]
  },
  {
   "cell_type": "code",
   "execution_count": 2,
   "metadata": {},
   "outputs": [],
   "source": [
    "configure_logfile(\"pfssp-bench.log\", mode=\"w\")"
   ]
  },
  {
   "cell_type": "code",
   "execution_count": 23,
   "metadata": {},
   "outputs": [],
   "source": [
    "with open(\"./../data/flow-shop/ta016.json\", mode=\"r\", encoding=\"utf8\") as f:\n",
    "    p = json.load(f)"
   ]
  },
  {
   "cell_type": "code",
   "execution_count": 35,
   "metadata": {},
   "outputs": [],
   "source": [
    "import random\n",
    "\n",
    "from bnbpy.node import Node\n",
    "\n",
    "random.seed(42)\n",
    "\n",
    "\n",
    "class BnB(ExpBnB):\n",
    "    # def post_eval_callback(self, node: Node):\n",
    "    #     if node.level >= node.problem.solution.n_jobs / 2:\n",
    "    #         return super().post_eval_callback(node)\n",
    "\n",
    "    def solution_callback(self, node: Node):\n",
    "        pass\n",
    "        new_sol = node.problem.local_search()\n",
    "        if new_sol is not None:\n",
    "            # General procedure in case is valid\n",
    "            if new_sol.is_feasible() and new_sol.lb < node.solution.lb:\n",
    "                node.set_solution(new_sol)\n",
    "                node.check_feasible()\n",
    "                self.set_solution(node)\n",
    "\n",
    "    def fathom(self, node: Node):\n",
    "        super().fathom(node)\n",
    "        if node.parent is not None:\n",
    "            node.parent.children.remove(node)\n",
    "        del node.problem.solution\n",
    "        node.problem.solution = None\n",
    "        del node.problem\n",
    "        node.problem = None\n",
    "        del node\n",
    "\n",
    "    def branch(self, node: Node):\n",
    "        super().branch(node)\n",
    "        if node.children:\n",
    "            for child in node.children:\n",
    "                child.parent = None\n",
    "        del node.problem.solution\n",
    "        node.problem.solution = None\n",
    "        del node.problem\n",
    "        node.problem = None\n",
    "        del node\n",
    "\n",
    "    def dequeue(self) -> Node:\n",
    "        if self.explored % (len(p) * len(p[0]) / 2) == 0:\n",
    "            pri, node = min(self.queue, key=lambda x: x[-1].lb)\n",
    "            self.queue.remove((pri, node))\n",
    "            return node\n",
    "        # if self.explored % len(p) * 6 == 0:\n",
    "        #     pri, node = random.choice(self.queue)\n",
    "        #     # pri, node = min(self.queue, key=lambda x: x[-1].lb)\n",
    "        #     self.queue.remove((pri, node))\n",
    "        #     return node\n",
    "        return super().dequeue()"
   ]
  },
  {
   "cell_type": "code",
   "execution_count": 36,
   "metadata": {},
   "outputs": [],
   "source": [
    "problem_sm = PermFlowShopLazy.from_p(p, constructive='neh')\n",
    "bnb_sm = BnB(eval_node=\"in\", rtol=0.0001)"
   ]
  },
  {
   "cell_type": "code",
   "execution_count": 26,
   "metadata": {},
   "outputs": [],
   "source": [
    "perm = Permutation.from_p(p)"
   ]
  },
  {
   "cell_type": "code",
   "execution_count": 27,
   "metadata": {},
   "outputs": [
    {
     "data": {
      "text/plain": [
       "1505"
      ]
     },
     "execution_count": 27,
     "metadata": {},
     "output_type": "execute_result"
    }
   ],
   "source": [
    "FlowSolution(quick_constructive(problem_sm.solution.perm)).perm.calc_bound()"
   ]
  },
  {
   "cell_type": "code",
   "execution_count": 28,
   "metadata": {},
   "outputs": [
    {
     "data": {
      "text/plain": [
       "1505"
      ]
     },
     "execution_count": 28,
     "metadata": {},
     "output_type": "execute_result"
    }
   ],
   "source": [
    "problem_sm.quick_constructive().perm.calc_bound()"
   ]
  },
  {
   "cell_type": "code",
   "execution_count": 29,
   "metadata": {},
   "outputs": [
    {
     "name": "stdout",
     "output_type": "stream",
     "text": [
      "1282\n",
      "1282\n",
      "1471\n",
      "1471\n",
      "1511\n",
      "1511\n",
      "1488\n"
     ]
    }
   ],
   "source": [
    "print(problem_sm.solution.perm.calc_lb_2m())\n",
    "print(perm.calc_lb_2m())\n",
    "print(problem_sm.neh_constructive().perm.calc_bound())\n",
    "print(neh_constructive(perm).calc_bound())\n",
    "print(problem_sm.quick_constructive().perm.calc_bound())\n",
    "print(quick_constructive(perm).calc_bound())\n",
    "print(local_search(local_search(quick_constructive(perm))).calc_bound())"
   ]
  },
  {
   "cell_type": "code",
   "execution_count": 30,
   "metadata": {},
   "outputs": [
    {
     "name": "stdout",
     "output_type": "stream",
     "text": [
      "0.048972129821777344\n"
     ]
    }
   ],
   "source": [
    "import time\n",
    "\n",
    "s = time.time()\n",
    "\n",
    "for _ in range(100):\n",
    "    # problem_sm.neh_constructive()\n",
    "    # neh_constructive(perm)\n",
    "    problem_sm.solution.perm.calc_lb_2m()\n",
    "    # perm.calc_lb_2m()\n",
    "    # perm.copy().push_job(0)\n",
    "    # problem_sm.solution.copy().push_job(0)\n",
    "    # problem_sm.solution.perm.sigma1.copy()\n",
    "\n",
    "print(time.time() - s)"
   ]
  },
  {
   "cell_type": "code",
   "execution_count": 31,
   "metadata": {},
   "outputs": [
    {
     "data": {
      "text/plain": [
       "3.0"
      ]
     },
     "execution_count": 31,
     "metadata": {},
     "output_type": "execute_result"
    }
   ],
   "source": [
    "0.18 / 0.06"
   ]
  },
  {
   "cell_type": "code",
   "execution_count": 37,
   "metadata": {},
   "outputs": [
    {
     "name": "stdout",
     "output_type": "stream",
     "text": [
      "Status: OPTIMAL | Cost: 1397 | LB: 1397\n"
     ]
    }
   ],
   "source": [
    "sol_sm = bnb_sm.solve(\n",
    "    problem_sm, maxiter=500000, timelimit=300\n",
    ")\n",
    "print(sol_sm)"
   ]
  },
  {
   "cell_type": "code",
   "execution_count": 43,
   "metadata": {},
   "outputs": [
    {
     "data": {
      "text/plain": [
       "{'solution': Status: INFEASIBLE | Cost: None | LB: 1553, 'constructive': 'neh'}"
      ]
     },
     "execution_count": 43,
     "metadata": {},
     "output_type": "execute_result"
    }
   ],
   "source": [
    "bnb_sm.queue[0][-1].problem.__dict__"
   ]
  },
  {
   "cell_type": "code",
   "execution_count": 38,
   "metadata": {},
   "outputs": [
    {
     "data": {
      "text/plain": [
       "164"
      ]
     },
     "execution_count": 38,
     "metadata": {},
     "output_type": "execute_result"
    }
   ],
   "source": [
    "len(bnb_sm.queue)"
   ]
  },
  {
   "cell_type": "code",
   "execution_count": null,
   "metadata": {},
   "outputs": [
    {
     "data": {
      "text/plain": [
       "[]"
      ]
     },
     "execution_count": 22,
     "metadata": {},
     "output_type": "execute_result"
    }
   ],
   "source": [
    "bnb_sm.root.children[2].children[3].children[4].children"
   ]
  },
  {
   "cell_type": "code",
   "execution_count": 32,
   "metadata": {},
   "outputs": [
    {
     "data": {
      "text/plain": [
       "2153"
      ]
     },
     "execution_count": 32,
     "metadata": {},
     "output_type": "execute_result"
    }
   ],
   "source": [
    "bnb_sm.queue[0][-1].solution.perm.lower_bound_2m()"
   ]
  },
  {
   "cell_type": "code",
   "execution_count": null,
   "metadata": {},
   "outputs": [],
   "source": [
    "# Save for unit testing\n",
    "\n",
    "# p = [\n",
    "#     [5, 9, 8, 10, 1],\n",
    "#     [9, 3, 10, 1, 8],\n",
    "#     [9, 4, 5, 8, 6],\n",
    "#     [4, 8, 8, 7, 2]\n",
    "# ]"
   ]
  },
  {
   "cell_type": "code",
   "execution_count": null,
   "metadata": {},
   "outputs": [],
   "source": [
    "plot_gantt(sol_sm.sequence, dpi=120, seed=42, figsize=[8, 3])"
   ]
  },
  {
   "cell_type": "markdown",
   "metadata": {},
   "source": [
    "In this implmentation lower bounds are computed by\n",
    "the max of a single machine and\n",
    "a two machine relaxations.\n",
    "\n",
    "The bounds for single and two-machine problems are described\n",
    "by Potts (1980), also implemented by Ladhari & Haouari (2005),\n",
    "therein described as 'LB1' and 'LB5'.\n",
    "\n",
    "The warmstart strategy is proposed by Palmer (1965).\n",
    "\n",
    "## References\n",
    "\n",
    "Ladhari, T., & Haouari, M. (2005). A computational study of\n",
    "the permutation flow shop problem based on a tight lower bound.\n",
    "Computers & Operations Research, 32(7), 1831-1847.\n",
    "\n",
    "Potts, C. N. (1980). An adaptive branching rule for the permutation\n",
    "flow-shop problem. European Journal of Operational Research, 5(1), 19-25.\n",
    "\n",
    "Palmer, D. S. (1965). Sequencing jobs through a multi-stage process\n",
    "in the minimum total time—a quick method of obtaining a near optimum.\n",
    "Journal of the Operational Research Society, 16(1), 101-107"
   ]
  },
  {
   "cell_type": "code",
   "execution_count": null,
   "metadata": {},
   "outputs": [],
   "source": [
    "import pyomo.environ as pyo\n",
    "\n",
    "model = pyo.ConcreteModel()\n",
    "\n",
    "# Sets for machines, jobs, horizon, and job sequences\n",
    "model.M = pyo.Set(initialize=range(len(p[0])))\n",
    "model.J = pyo.Set(initialize=range(len(p)))\n",
    "model.K = pyo.Set(initialize=range(len(p)))\n",
    "\n",
    "# Parameters\n",
    "model.p = pyo.Param(model.J, model.M, initialize=lambda _, m, j: p[m][j])\n",
    "model.V = pyo.Param(initialize=sum(pim for pi in p for pim in pi))\n",
    "\n",
    "# Variables\n",
    "model.x = pyo.Var(model.J, model.K, within=pyo.Binary)\n",
    "model.h = pyo.Var(model.M, model.K, within=pyo.NonNegativeReals)\n",
    "model.C = pyo.Var(within=pyo.NonNegativeReals)\n",
    "\n",
    "\n",
    "# Constraints\n",
    "def cstr_position(model, k):\n",
    "    return sum(model.x[j, k] for j in model.J) == 1\n",
    "\n",
    "\n",
    "def cstr_job(model, j):\n",
    "    return sum(model.x[j, k] for k in model.K) == 1\n",
    "\n",
    "\n",
    "def cstr_seq(model, m, k):\n",
    "    if k == model.K.last():\n",
    "        return pyo.Constraint.Skip\n",
    "    return (\n",
    "        model.h[m, k] + sum(model.p[j, m] * model.x[j, k] for j in model.J)\n",
    "        <= model.h[m, k + 1]\n",
    "    )\n",
    "\n",
    "\n",
    "def cstr_precede(model, m, k):\n",
    "    if m == model.M.last():\n",
    "        return pyo.Constraint.Skip\n",
    "    return (\n",
    "        model.h[m, k] + sum(model.p[j, m] * model.x[j, k] for j in model.J)\n",
    "        <= model.h[m + 1, k]\n",
    "    )\n",
    "\n",
    "\n",
    "def cstr_comp_precede(model, j, k):\n",
    "    if j == k:\n",
    "        return model.z[j, k] + model.z[k, j] == 0.0\n",
    "    return model.z[j, k] + model.z[k, j] == 1.0\n",
    "\n",
    "\n",
    "def cstr_total_time(model, m):\n",
    "    k = model.K.last()\n",
    "    return (\n",
    "        model.h[m, k] + sum(model.p[j, m] * model.x[j, k] for j in model.J)\n",
    "        <= model.C\n",
    "    )\n",
    "\n",
    "\n",
    "model.cstr_position = pyo.Constraint(model.K, rule=cstr_position)\n",
    "model.cstr_job = pyo.Constraint(model.K, rule=cstr_job)\n",
    "model.cstr_seq = pyo.Constraint(model.M, model.K, rule=cstr_seq)\n",
    "model.cstr_precede = pyo.Constraint(model.M, model.K, rule=cstr_precede)\n",
    "model.cstr_total_time = pyo.Constraint(model.M, rule=cstr_total_time)\n",
    "\n",
    "\n",
    "# Objective\n",
    "model.obj = pyo.Objective(expr=model.C, sense=pyo.minimize)\n",
    "\n",
    "# HiGHS\n",
    "# solver = pyo.SolverFactory('appsi_highs')\n",
    "# solver.options['mip_heuristic_effort'] = 0.1\n",
    "# solver.options['time_limit'] = 120\n",
    "# solver.options['log_file'] = 'Highs.log'\n",
    "# solver.solve(model, tee=True)\n",
    "\n",
    "# Gurobi\n",
    "solver = pyo.SolverFactory(\"gurobi\", solver_io=\"python\")\n",
    "solver.options[\"Heuristics\"] = 0.2\n",
    "solver.options[\"Cuts\"] = 2\n",
    "solver.options[\"TimeLimit\"] = 300\n",
    "solver.solve(model, tee=True)"
   ]
  },
  {
   "cell_type": "markdown",
   "metadata": {},
   "source": [
    "## Bonus - MILP Model\n",
    "\n",
    "This is the usual Disjunctive MILP model as an alternative to compare performance.\n",
    "\n",
    "### Position-based model\n",
    "\n",
    "```python\n",
    "import pyomo.environ as pyo\n",
    "\n",
    "model = pyo.ConcreteModel()\n",
    "\n",
    "# Sets for machines, jobs, horizon, and job sequences\n",
    "model.M = pyo.Set(initialize=range(len(p[0])))\n",
    "model.J = pyo.Set(initialize=range(len(p)))\n",
    "model.K = pyo.Set(initialize=range(len(p)))\n",
    "\n",
    "# Parameters\n",
    "model.p = pyo.Param(model.J, model.M, initialize=lambda _, m, j: p[m][j])\n",
    "model.V = pyo.Param(initialize=sum(pim for pi in p for pim in pi))\n",
    "\n",
    "# Variables\n",
    "model.x = pyo.Var(model.J, model.K, within=pyo.Binary)\n",
    "model.h = pyo.Var(model.M, model.K, within=pyo.NonNegativeReals)\n",
    "model.C = pyo.Var(within=pyo.NonNegativeReals)\n",
    "\n",
    "\n",
    "# Constraints\n",
    "def cstr_position(model, k):\n",
    "    return sum(model.x[j, k] for j in model.J) == 1\n",
    "\n",
    "\n",
    "def cstr_job(model, j):\n",
    "    return sum(model.x[j, k] for k in model.K) == 1\n",
    "\n",
    "\n",
    "def cstr_seq(model, m, k):\n",
    "    if k == model.K.last():\n",
    "        return pyo.Constraint.Skip\n",
    "    return (\n",
    "        model.h[m, k] + sum(model.p[j, m] * model.x[j, k] for j in model.J)\n",
    "        <= model.h[m, k + 1]\n",
    "    )\n",
    "\n",
    "\n",
    "def cstr_precede(model, m, k):\n",
    "    if m == model.M.last():\n",
    "        return pyo.Constraint.Skip\n",
    "    return (\n",
    "        model.h[m, k] + sum(model.p[j, m] * model.x[j, k] for j in model.J)\n",
    "        <= model.h[m + 1, k]\n",
    "    )\n",
    "\n",
    "\n",
    "def cstr_comp_precede(model, j, k):\n",
    "    if j == k:\n",
    "        return model.z[j, k] + model.z[k, j] == 0.0\n",
    "    return model.z[j, k] + model.z[k, j] == 1.0\n",
    "\n",
    "\n",
    "def cstr_total_time(model, m):\n",
    "    k = model.K.last()\n",
    "    return (\n",
    "        model.h[m, k] + sum(model.p[j, m] * model.x[j, k] for j in model.J)\n",
    "        <= model.C\n",
    "    )\n",
    "\n",
    "\n",
    "model.cstr_position = pyo.Constraint(model.K, rule=cstr_position)\n",
    "model.cstr_job = pyo.Constraint(model.K, rule=cstr_job)\n",
    "model.cstr_seq = pyo.Constraint(model.M, model.K, rule=cstr_seq)\n",
    "model.cstr_precede = pyo.Constraint(model.M, model.K, rule=cstr_precede)\n",
    "model.cstr_total_time = pyo.Constraint(model.M, rule=cstr_total_time)\n",
    "\n",
    "\n",
    "# Objective\n",
    "model.obj = pyo.Objective(expr=model.C, sense=pyo.minimize)\n",
    "\n",
    "# HiGHS\n",
    "solver = pyo.SolverFactory('appsi_highs')\n",
    "solver.options['mip_heuristic_effort'] = 0.1\n",
    "solver.options['time_limit'] = 120\n",
    "solver.options['log_file'] = 'Highs.log'\n",
    "solver.solve(model, tee=True)\n",
    "\n",
    "# Gurobi\n",
    "solver = pyo.SolverFactory(\"gurobi\", solver_io=\"python\")\n",
    "solver.options[\"Heuristics\"] = 0.2\n",
    "solver.options[\"Cuts\"] = 2\n",
    "solver.options[\"TimeLimit\"] = 120\n",
    "solver.solve(model, tee=True)\n",
    "```\n",
    "\n",
    "\n",
    "### Disjunctive model\n",
    "\n",
    "In experiments with 15 jobs and 8 machines, the Lazy implementation solved in 24s whereas with a time limit of 120s Gurobi could not reach the optimal solution (with a MIP gap of nearly 25%).\n",
    "\n",
    "```python\n",
    "import pyomo.environ as pyo\n",
    "\n",
    "model = pyo.ConcreteModel()\n",
    "\n",
    "# Sets for machines, jobs, horizon, and job sequences\n",
    "model.M = pyo.Set(initialize=range(len(p[0])))\n",
    "model.J = pyo.Set(initialize=range(len(p)))\n",
    "\n",
    "# Parameters\n",
    "model.p = pyo.Param(model.J, model.M, initialize=lambda _, m, j: p[m][j])\n",
    "model.V = pyo.Param(initialize=sum(pim for pi in p for pim in pi))\n",
    "\n",
    "# Variables\n",
    "model.x = pyo.Var(model.J, model.M, within=pyo.NonNegativeReals)\n",
    "model.z = pyo.Var(model.J, model.J, within=pyo.Binary)\n",
    "model.C = pyo.Var(within=pyo.NonNegativeReals)\n",
    "\n",
    "\n",
    "# Constraints\n",
    "def cstr_seq(model, j, m):\n",
    "    if m == model.M.last():\n",
    "        return pyo.Constraint.Skip\n",
    "    return model.x[j, m] + model.p[j, m] <= model.x[j, m + 1]\n",
    "\n",
    "\n",
    "def cstr_precede(model, j, k, m):\n",
    "    return model.x[j, m] + model.p[j, m] <= model.x[k, m] + model.V * (\n",
    "        1 - model.z[j, k]\n",
    "    )\n",
    "\n",
    "\n",
    "def cstr_comp_precede(model, j, k):\n",
    "    if j == k:\n",
    "        return model.z[j, k] + model.z[k, j] == 0.0\n",
    "    return model.z[j, k] + model.z[k, j] == 1.0\n",
    "\n",
    "\n",
    "def cstr_total_time(model, j, m):\n",
    "    return model.x[j, m] + model.p[j, m] <= model.C\n",
    "\n",
    "\n",
    "model.cstr_seq = pyo.Constraint(model.J, model.M, rule=cstr_seq)\n",
    "model.cstr_precede = pyo.Constraint(\n",
    "    model.J, model.J, model.M, rule=cstr_precede\n",
    ")\n",
    "model.cstr_comp_precede = pyo.Constraint(\n",
    "    model.J, model.J, rule=cstr_comp_precede\n",
    ")\n",
    "model.cstr_total_time = pyo.Constraint(model.J, model.M, rule=cstr_total_time)\n",
    "\n",
    "\n",
    "# Objective\n",
    "model.obj = pyo.Objective(expr=model.C, sense=pyo.minimize)\n",
    "\n",
    "# HiGHS\n",
    "solver = pyo.SolverFactory(\"appsi_highs\")\n",
    "solver.options[\"mip_heuristic_effort\"] = 0.1\n",
    "solver.options[\"time_limit\"] = 120\n",
    "solver.options[\"log_file\"] = \"Highs.log\"\n",
    "solver.solve(model, tee=True)\n",
    "\n",
    "# Gurobi\n",
    "solver = pyo.SolverFactory(\"gurobi\", solver_io=\"python\")\n",
    "solver.options[\"Heuristics\"] = 0.2\n",
    "solver.options[\"Cuts\"] = 2\n",
    "solver.options[\"TimeLimit\"] = 120\n",
    "solver.solve(model, tee=True)\n",
    "```"
   ]
  },
  {
   "cell_type": "code",
   "execution_count": null,
   "metadata": {},
   "outputs": [],
   "source": [
    "import pyomo.environ as pyo\n",
    "\n",
    "model = pyo.ConcreteModel()\n",
    "\n",
    "# Sets for machines, jobs, horizon, and job sequences\n",
    "model.M = pyo.Set(initialize=range(len(p[0])))\n",
    "model.J = pyo.Set(initialize=range(len(p)))\n",
    "\n",
    "# Parameters\n",
    "model.p = pyo.Param(model.J, model.M, initialize=lambda _, m, j: p[m][j])\n",
    "model.V = pyo.Param(initialize=sum(pim for pi in p for pim in pi))\n",
    "\n",
    "# Variables\n",
    "model.x = pyo.Var(model.J, model.M, within=pyo.NonNegativeReals)\n",
    "model.z = pyo.Var(model.J, model.J, within=pyo.Binary)\n",
    "model.C = pyo.Var(within=pyo.NonNegativeReals)\n",
    "\n",
    "\n",
    "# Constraints\n",
    "def cstr_seq(model, j, m):\n",
    "    if m == model.M.last():\n",
    "        return pyo.Constraint.Skip\n",
    "    return model.x[j, m] + model.p[j, m] <= model.x[j, m + 1]\n",
    "\n",
    "\n",
    "def cstr_precede(model, j, k, m):\n",
    "    return model.x[j, m] + model.p[j, m] <= model.x[k, m] + model.V * (\n",
    "        1 - model.z[j, k]\n",
    "    )\n",
    "\n",
    "\n",
    "def cstr_comp_precede(model, j, k):\n",
    "    if j == k:\n",
    "        return model.z[j, k] + model.z[k, j] == 0.0\n",
    "    return model.z[j, k] + model.z[k, j] == 1.0\n",
    "\n",
    "\n",
    "def cstr_total_time(model, j, m):\n",
    "    return model.x[j, m] + model.p[j, m] <= model.C\n",
    "\n",
    "\n",
    "model.cstr_seq = pyo.Constraint(model.J, model.M, rule=cstr_seq)\n",
    "model.cstr_precede = pyo.Constraint(\n",
    "    model.J, model.J, model.M, rule=cstr_precede\n",
    ")\n",
    "model.cstr_comp_precede = pyo.Constraint(\n",
    "    model.J, model.J, rule=cstr_comp_precede\n",
    ")\n",
    "model.cstr_total_time = pyo.Constraint(model.J, model.M, rule=cstr_total_time)\n",
    "\n",
    "\n",
    "# Objective\n",
    "model.obj = pyo.Objective(expr=model.C, sense=pyo.minimize)\n",
    "\n",
    "# HiGHS\n",
    "# solver = pyo.SolverFactory(\"appsi_highs\")\n",
    "# solver.options[\"mip_heuristic_effort\"] = 0.1\n",
    "# solver.options[\"time_limit\"] = 120\n",
    "# solver.options[\"log_file\"] = \"Highs.log\"\n",
    "# solver.solve(model, tee=True)\n",
    "\n",
    "# Gurobi\n",
    "solver = pyo.SolverFactory(\"gurobi\", solver_io=\"python\")\n",
    "solver.options[\"Heuristics\"] = 0.2\n",
    "solver.options[\"Cuts\"] = 2\n",
    "solver.options[\"TimeLimit\"] = 120\n",
    "solver.solve(model, tee=True)"
   ]
  },
  {
   "cell_type": "markdown",
   "metadata": {},
   "source": []
  }
 ],
 "metadata": {
  "kernelspec": {
   "display_name": ".venv",
   "language": "python",
   "name": "python3"
  },
  "language_info": {
   "codemirror_mode": {
    "name": "ipython",
    "version": 3
   },
   "file_extension": ".py",
   "mimetype": "text/x-python",
   "name": "python",
   "nbconvert_exporter": "python",
   "pygments_lexer": "ipython3",
   "version": "3.11.9"
  }
 },
 "nbformat": 4,
 "nbformat_minor": 2
}
