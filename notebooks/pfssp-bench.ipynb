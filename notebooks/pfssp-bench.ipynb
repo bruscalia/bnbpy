{
 "cells": [
  {
   "cell_type": "markdown",
   "metadata": {},
   "source": [
    "# Permutation Flow-Shop Scheduling Problem\n",
    "\n",
    "This is a variant of the Flot-shop scheduling problem (FSSP) in which the sequence of jobs is the same in every machine.\n",
    "\n",
    "$$\n",
    " \\begin{align}\n",
    "     \\text{min} \\quad & C_{\\text{max}} \\\\\n",
    "     \\text{s.t.} \\quad & x_{m-1, j} + p_{m, j} \\leq x_{m, j}\n",
    "         & \\forall ~ j \\in J; m \\in (2, ..., |M|)\\\\\n",
    "     & x_{m, j} + p_{m, j} \\leq x_{m, k} \\lor x_{m, k} + p_{m, k} \\leq x_{m, j}\n",
    "         & \\forall ~ j \\in J; k \\in J, j \\neq k\\\\\n",
    "     & x_{|M|, j} + p_{|M|, j} \\leq C_{\\text{max}}\n",
    "         & \\forall ~ j \\in J\\\\\n",
    "     & x_{m, j} \\geq 0 & \\forall ~ j \\in J; m \\in M\\\\\n",
    "     & z_{j, k} \\in \\{0, 1\\} & \\forall ~ j \\in J; k \\in J, j \\neq k\\\\\n",
    " \\end{align}\n",
    " $$\n",
    "\n",
    " You can compare this implementation to MILP solvers at the [end of the notebook](#bonus---milp-model)."
   ]
  },
  {
   "cell_type": "code",
   "execution_count": 9,
   "metadata": {},
   "outputs": [],
   "source": [
    "import json\n",
    "\n",
    "from bnbprob.pfssp import CallbackBnB, PermFlowShop, plot_gantt\n",
    "from bnbprob.pfssp.mip import positional_model\n",
    "\n",
    "# from bnbprob.pfssp.pypure.problem import PermFlowShop\n",
    "from bnbpy import configure_logfile"
   ]
  },
  {
   "cell_type": "code",
   "execution_count": 2,
   "metadata": {},
   "outputs": [],
   "source": [
    "configure_logfile(\"pfssp-bench.log\", mode=\"w\")"
   ]
  },
  {
   "cell_type": "code",
   "execution_count": 10,
   "metadata": {},
   "outputs": [
    {
     "name": "stdout",
     "output_type": "stream",
     "text": [
      "20 Jobs; 10 Machines\n"
     ]
    }
   ],
   "source": [
    "with open(\"./../data/flow-shop/reC11.json\", mode=\"r\", encoding=\"utf8\") as f:\n",
    "    p = json.load(f)\n",
    "\n",
    "print(f\"{len(p)} Jobs; {len(p[0])} Machines\")"
   ]
  },
  {
   "cell_type": "code",
   "execution_count": 4,
   "metadata": {},
   "outputs": [],
   "source": [
    "problem = PermFlowShop.from_p(p, constructive='neh')\n",
    "bnb = CallbackBnB(\n",
    "    eval_node='in', rtol=0.0001, restart_freq=200, save_tree=False\n",
    ")"
   ]
  },
  {
   "cell_type": "code",
   "execution_count": 5,
   "metadata": {},
   "outputs": [
    {
     "name": "stdout",
     "output_type": "stream",
     "text": [
      "Status: OPTIMAL | Cost: 1431 | LB: 1431\n"
     ]
    }
   ],
   "source": [
    "sol = bnb.solve(\n",
    "    problem, maxiter=1000000, timelimit=600\n",
    ")\n",
    "print(sol)"
   ]
  },
  {
   "cell_type": "code",
   "execution_count": 1,
   "metadata": {},
   "outputs": [
    {
     "name": "stdout",
     "output_type": "stream",
     "text": [
      "Cython imports failed\n",
      "cannot import name 'Job' from 'bnbprob.pfssp.cython.job' (c:\\Users\\Bruno\\Desktop\\Python Packages\\bnbpy\\venv\\Lib\\site-packages\\bnbprob\\pfssp\\cython\\job.cp311-win_amd64.pyd)\n"
     ]
    }
   ],
   "source": [
    "from bnbprob.pfssp.cython.job import PyJob\n",
    "from bnbprob.pfssp.cython.sequence import PySigma\n",
    "from bnbprob.pfssp.cython.permutation import Permutation\n",
    "from bnbprob.pfssp.cython.heuristics import crosscheck_neh, local_search, crosscheck_combo\n",
    "from bnbprob.pfssp.pypure.permutation import Permutation as PyPerm\n",
    "from bnbprob.pfssp.pypure.heuristics import neh_constructive as neh"
   ]
  },
  {
   "cell_type": "code",
   "execution_count": 2,
   "metadata": {},
   "outputs": [],
   "source": [
    "job = PyJob.from_p(2, [1, 2, 3])"
   ]
  },
  {
   "cell_type": "code",
   "execution_count": 3,
   "metadata": {},
   "outputs": [
    {
     "data": {
      "text/plain": [
       "[[0, 0, 0], [0, 0, 0], [2, 0, 0]]"
      ]
     },
     "execution_count": 3,
     "metadata": {},
     "output_type": "execute_result"
    }
   ],
   "source": [
    "job.test_p(1, [1, 2, 3])"
   ]
  },
  {
   "cell_type": "code",
   "execution_count": 4,
   "metadata": {},
   "outputs": [
    {
     "data": {
      "text/plain": [
       "2"
      ]
     },
     "execution_count": 4,
     "metadata": {},
     "output_type": "execute_result"
    }
   ],
   "source": [
    "job.get_j()"
   ]
  },
  {
   "cell_type": "code",
   "execution_count": 5,
   "metadata": {},
   "outputs": [],
   "source": [
    "for i in range(1000000):\n",
    "    PyJob.from_p(2, [1, 2, 3])"
   ]
  },
  {
   "cell_type": "code",
   "execution_count": 6,
   "metadata": {},
   "outputs": [],
   "source": [
    "job = PyJob.from_p(2, [1, 2, 3])\n",
    "# del job"
   ]
  },
  {
   "cell_type": "code",
   "execution_count": 7,
   "metadata": {},
   "outputs": [],
   "source": [
    "del job"
   ]
  },
  {
   "cell_type": "code",
   "execution_count": null,
   "metadata": {},
   "outputs": [],
   "source": []
  },
  {
   "cell_type": "code",
   "execution_count": 2,
   "metadata": {},
   "outputs": [],
   "source": [
    "p = [[5, 9, 7, 4], [9, 3, 3, 8], [8, 10, 5, 6], [1, 8, 6, 2]]"
   ]
  },
  {
   "cell_type": "code",
   "execution_count": 4,
   "metadata": {},
   "outputs": [
    {
     "data": {
      "text/plain": [
       "44"
      ]
     },
     "execution_count": 4,
     "metadata": {},
     "output_type": "execute_result"
    }
   ],
   "source": [
    "crosscheck_neh(p).calc_lb_full()"
   ]
  },
  {
   "cell_type": "code",
   "execution_count": 9,
   "metadata": {},
   "outputs": [],
   "source": [
    "perm = Permutation.from_p(p)\n",
    "# perm.update_params()"
   ]
  },
  {
   "cell_type": "code",
   "execution_count": 10,
   "metadata": {},
   "outputs": [
    {
     "data": {
      "text/plain": [
       "0"
      ]
     },
     "execution_count": 10,
     "metadata": {},
     "output_type": "execute_result"
    }
   ],
   "source": [
    "perm.get_free_jobs()[0].get_j()"
   ]
  },
  {
   "cell_type": "code",
   "execution_count": 11,
   "metadata": {},
   "outputs": [
    {
     "data": {
      "text/plain": [
       "30"
      ]
     },
     "execution_count": 11,
     "metadata": {},
     "output_type": "execute_result"
    }
   ],
   "source": [
    "perm.calc_lb_1m()"
   ]
  },
  {
   "cell_type": "code",
   "execution_count": 12,
   "metadata": {},
   "outputs": [
    {
     "data": {
      "text/plain": [
       "<bnbprob.pfssp.cython.permutation.Permutation at 0x1e859454440>"
      ]
     },
     "execution_count": 12,
     "metadata": {},
     "output_type": "execute_result"
    }
   ],
   "source": [
    "perm2 = perm.copy()\n",
    "perm2.copy()"
   ]
  },
  {
   "cell_type": "code",
   "execution_count": 17,
   "metadata": {},
   "outputs": [],
   "source": [
    "perm.update_params()"
   ]
  },
  {
   "cell_type": "code",
   "execution_count": 18,
   "metadata": {},
   "outputs": [],
   "source": [
    "jobs = perm.get_free_jobs()"
   ]
  },
  {
   "cell_type": "code",
   "execution_count": 19,
   "metadata": {},
   "outputs": [
    {
     "data": {
      "text/plain": [
       "8"
      ]
     },
     "execution_count": 19,
     "metadata": {},
     "output_type": "execute_result"
    }
   ],
   "source": [
    "jobs[2].get_r(1)"
   ]
  },
  {
   "cell_type": "code",
   "execution_count": 20,
   "metadata": {},
   "outputs": [
    {
     "data": {
      "text/plain": [
       "42"
      ]
     },
     "execution_count": 20,
     "metadata": {},
     "output_type": "execute_result"
    }
   ],
   "source": [
    "perm.calc_lb_2m()"
   ]
  },
  {
   "cell_type": "code",
   "execution_count": 5,
   "metadata": {},
   "outputs": [],
   "source": [
    "import json\n",
    "\n",
    "with open(\"./../data/flow-shop/reC11.json\", mode=\"r\", encoding=\"utf8\") as f:\n",
    "    p = json.load(f)"
   ]
  },
  {
   "cell_type": "code",
   "execution_count": 7,
   "metadata": {},
   "outputs": [
    {
     "data": {
      "text/plain": [
       "1521"
      ]
     },
     "execution_count": 7,
     "metadata": {},
     "output_type": "execute_result"
    }
   ],
   "source": [
    "crosscheck_combo(p).calc_lb_full()"
   ]
  },
  {
   "cell_type": "code",
   "execution_count": 22,
   "metadata": {},
   "outputs": [
    {
     "name": "stdout",
     "output_type": "stream",
     "text": [
      "1850\n"
     ]
    }
   ],
   "source": [
    "perm = Permutation.from_p(p)\n",
    "for i in range(len(p)):\n",
    "    perm.push_job(0)\n",
    "perm.get_indexes()\n",
    "print((perm).calc_lb_full())\n",
    "# local_search(perm).calc_lb_full()"
   ]
  },
  {
   "cell_type": "code",
   "execution_count": 23,
   "metadata": {},
   "outputs": [
    {
     "data": {
      "text/plain": [
       "1550"
      ]
     },
     "execution_count": 23,
     "metadata": {},
     "output_type": "execute_result"
    }
   ],
   "source": [
    "perm = PyPerm.from_p(p)\n",
    "neh(perm.free_jobs).calc_bound()"
   ]
  },
  {
   "cell_type": "code",
   "execution_count": 9,
   "metadata": {},
   "outputs": [],
   "source": [
    "import time"
   ]
  },
  {
   "cell_type": "code",
   "execution_count": 12,
   "metadata": {},
   "outputs": [
    {
     "name": "stdout",
     "output_type": "stream",
     "text": [
      "0.11499857902526855\n"
     ]
    }
   ],
   "source": [
    "perm = Permutation.from_p(p)\n",
    "\n",
    "s = time.time()\n",
    "\n",
    "for _ in range(1000):\n",
    "    other = perm.copy()\n",
    "    for i in range(1):\n",
    "        other.push_job(0)\n",
    "    # perm.calc_lb_2m()\n",
    "\n",
    "print(time.time() - s)"
   ]
  },
  {
   "cell_type": "code",
   "execution_count": 13,
   "metadata": {},
   "outputs": [
    {
     "name": "stdout",
     "output_type": "stream",
     "text": [
      "0.2089989185333252\n"
     ]
    }
   ],
   "source": [
    "perm = PyPerm.from_p(p)\n",
    "\n",
    "s = time.time()\n",
    "\n",
    "for _ in range(1000):\n",
    "    other = perm.copy()\n",
    "    for i in range(1):\n",
    "        other.push_job(0)\n",
    "    # perm.calc_lb_2m()\n",
    "\n",
    "print(time.time() - s)"
   ]
  },
  {
   "cell_type": "code",
   "execution_count": 10,
   "metadata": {},
   "outputs": [
    {
     "data": {
      "text/plain": [
       "1352"
      ]
     },
     "execution_count": 10,
     "metadata": {},
     "output_type": "execute_result"
    }
   ],
   "source": [
    "perm.calc_lb_1m()"
   ]
  },
  {
   "cell_type": "code",
   "execution_count": 17,
   "metadata": {},
   "outputs": [],
   "source": [
    "perm = Permutation.from_p(p)\n",
    "for i in range(len(p)):\n",
    "    other = perm.copy()\n",
    "    other.push_job(0)\n",
    "    perm = other"
   ]
  },
  {
   "cell_type": "code",
   "execution_count": 19,
   "metadata": {},
   "outputs": [
    {
     "data": {
      "text/plain": [
       "<bnbprob.pfssp.cython.permutation.Permutation at 0x1ed34fe5e70>"
      ]
     },
     "execution_count": 19,
     "metadata": {},
     "output_type": "execute_result"
    }
   ],
   "source": [
    "perm"
   ]
  },
  {
   "cell_type": "code",
   "execution_count": 18,
   "metadata": {},
   "outputs": [
    {
     "data": {
      "text/plain": [
       "1850"
      ]
     },
     "execution_count": 18,
     "metadata": {},
     "output_type": "execute_result"
    }
   ],
   "source": [
    "other.calc_lb_full()"
   ]
  },
  {
   "cell_type": "code",
   "execution_count": 23,
   "metadata": {},
   "outputs": [
    {
     "name": "stdout",
     "output_type": "stream",
     "text": [
      "0.7315201759338379\n"
     ]
    }
   ],
   "source": [
    "perm = PyPerm.from_p(p)\n",
    "\n",
    "s = time.time()\n",
    "\n",
    "for _ in range(10000):\n",
    "    perm = Permutation.from_p(p)\n",
    "    other = perm.copy()\n",
    "    other.push_job(0)\n",
    "\n",
    "print(time.time() - s)"
   ]
  },
  {
   "cell_type": "code",
   "execution_count": 6,
   "metadata": {},
   "outputs": [
    {
     "name": "stdout",
     "output_type": "stream",
     "text": [
      "42\n",
      "42\n",
      "42\n",
      "42\n"
     ]
    }
   ],
   "source": [
    "perm = Permutation.from_p(p)\n",
    "permcopy = perm.copy()\n",
    "\n",
    "print(perm.lower_bound_2m())\n",
    "print(permcopy.lower_bound_2m())\n",
    "\n",
    "perm.pypush_job(3)\n",
    "print(perm.lower_bound_2m())\n",
    "print(permcopy.lower_bound_2m())"
   ]
  },
  {
   "cell_type": "code",
   "execution_count": 4,
   "metadata": {},
   "outputs": [
    {
     "name": "stdout",
     "output_type": "stream",
     "text": [
      "39\n",
      "39\n"
     ]
    }
   ],
   "source": [
    "print(perm.lower_bound_1m())\n",
    "print(permcopy.lower_bound_1m())"
   ]
  },
  {
   "cell_type": "code",
   "execution_count": 7,
   "metadata": {},
   "outputs": [
    {
     "name": "stdout",
     "output_type": "stream",
     "text": [
      "46\n",
      "39\n"
     ]
    }
   ],
   "source": [
    "perm.pypush_job(2)\n",
    "print(perm.lower_bound_1m())\n",
    "print(permcopy.lower_bound_1m())"
   ]
  },
  {
   "cell_type": "code",
   "execution_count": 2,
   "metadata": {},
   "outputs": [],
   "source": [
    "p = [\n",
    "    [1, 2, 3],\n",
    "    [4, 5, 6]\n",
    "]"
   ]
  },
  {
   "cell_type": "code",
   "execution_count": 3,
   "metadata": {},
   "outputs": [],
   "source": [
    "perm = Permutation.from_p(p)"
   ]
  },
  {
   "cell_type": "code",
   "execution_count": 9,
   "metadata": {},
   "outputs": [
    {
     "data": {
      "text/plain": [
       "[<bnbprob.pfssp.cython.job.PyJob at 0x1da1f985ca0>,\n",
       " <bnbprob.pfssp.cython.job.PyJob at 0x1da1f985df0>]"
      ]
     },
     "execution_count": 9,
     "metadata": {},
     "output_type": "execute_result"
    }
   ],
   "source": [
    "perm.get_sorted_seq()"
   ]
  },
  {
   "cell_type": "code",
   "execution_count": 14,
   "metadata": {},
   "outputs": [],
   "source": [
    "j = perm.get_sorted_seq()"
   ]
  },
  {
   "cell_type": "code",
   "execution_count": 15,
   "metadata": {},
   "outputs": [],
   "source": [
    "k = perm.get_free_jobs()"
   ]
  },
  {
   "cell_type": "code",
   "execution_count": 16,
   "metadata": {},
   "outputs": [
    {
     "data": {
      "text/plain": [
       "1"
      ]
     },
     "execution_count": 16,
     "metadata": {},
     "output_type": "execute_result"
    }
   ],
   "source": [
    "j[0].get_j()"
   ]
  },
  {
   "cell_type": "code",
   "execution_count": 17,
   "metadata": {},
   "outputs": [
    {
     "data": {
      "text/plain": [
       "0"
      ]
     },
     "execution_count": 17,
     "metadata": {},
     "output_type": "execute_result"
    }
   ],
   "source": [
    "k[0].get_j()"
   ]
  },
  {
   "cell_type": "code",
   "execution_count": 18,
   "metadata": {},
   "outputs": [
    {
     "data": {
      "text/plain": [
       "1"
      ]
     },
     "execution_count": 18,
     "metadata": {},
     "output_type": "execute_result"
    }
   ],
   "source": [
    "Permutation.from_p(p).get_free_jobs()[1].get_j()"
   ]
  },
  {
   "cell_type": "code",
   "execution_count": null,
   "metadata": {},
   "outputs": [],
   "source": [
    "Permutation.from_p(p).get_free_jobs()[1].get_j()"
   ]
  },
  {
   "cell_type": "code",
   "execution_count": null,
   "metadata": {},
   "outputs": [],
   "source": []
  },
  {
   "cell_type": "code",
   "execution_count": 2,
   "metadata": {},
   "outputs": [],
   "source": [
    "job = PyJob.from_p(3, [4, 5, 6])"
   ]
  },
  {
   "cell_type": "code",
   "execution_count": 3,
   "metadata": {},
   "outputs": [],
   "source": [
    "sigma = PySigma(3)"
   ]
  },
  {
   "cell_type": "code",
   "execution_count": 4,
   "metadata": {},
   "outputs": [],
   "source": [
    "sigma.job_to_top(job)"
   ]
  },
  {
   "cell_type": "code",
   "execution_count": 5,
   "metadata": {},
   "outputs": [
    {
     "data": {
      "text/plain": [
       "6"
      ]
     },
     "execution_count": 5,
     "metadata": {},
     "output_type": "execute_result"
    }
   ],
   "source": [
    "sigma.get_jobs()[0].get_p(2)"
   ]
  },
  {
   "cell_type": "code",
   "execution_count": 12,
   "metadata": {},
   "outputs": [
    {
     "data": {
      "text/plain": [
       "6"
      ]
     },
     "execution_count": 12,
     "metadata": {},
     "output_type": "execute_result"
    }
   ],
   "source": [
    "sigma.get_jobs()[0].get_p(2)"
   ]
  },
  {
   "cell_type": "code",
   "execution_count": 7,
   "metadata": {},
   "outputs": [
    {
     "data": {
      "text/plain": [
       "5"
      ]
     },
     "execution_count": 7,
     "metadata": {},
     "output_type": "execute_result"
    }
   ],
   "source": [
    "job.get_lat(2, 0)"
   ]
  },
  {
   "cell_type": "code",
   "execution_count": 6,
   "metadata": {},
   "outputs": [
    {
     "data": {
      "image/png": "[encoded data removed]",
      "text/plain": [
       "<Figure size 960x360 with 1 Axes>"
      ]
     },
     "metadata": {},
     "output_type": "display_data"
    }
   ],
   "source": [
    "plot_gantt(sol.sequence, dpi=120, seed=42, figsize=[8, 3])"
   ]
  },
  {
   "cell_type": "code",
   "execution_count": 7,
   "metadata": {},
   "outputs": [
    {
     "name": "stdout",
     "output_type": "stream",
     "text": [
      "Running HiGHS 1.9.0 (git hash: fa40bdf): Copyright (c) 2024 HiGHS under MIT licence terms\n",
      "Coefficient ranges:\n",
      "  Matrix [1e+00, 1e+02]\n",
      "  Cost   [1e+00, 1e+00]\n",
      "  Bound  [1e+00, 1e+00]\n",
      "  RHS    [1e+00, 1e+00]\n",
      "Presolving model\n",
      "220 rows, 500 cols, 4758 nonzeros  0s\n",
      "199 rows, 479 cols, 4197 nonzeros  0s\n",
      "\n",
      "Solving MIP model with:\n",
      "   199 rows\n",
      "   479 cols (400 binary, 0 integer, 0 implied int., 79 continuous)\n",
      "   4197 nonzeros\n",
      "\n",
      "Src: B => Branching; C => Central rounding; F => Feasibility pump; H => Heuristic; L => Sub-MIP;\n",
      "     P => Empty MIP; R => Randomized rounding; S => Solve LP; T => Evaluate node; U => Unbounded;\n",
      "     z => Trivial zero; l => Trivial lower; u => Trivial upper; p => Trivial point\n",
      "\n",
      "        Nodes      |    B&B Tree     |            Objective Bounds              |  Dynamic Constraints |       Work      \n",
      "Src  Proc. InQueue |  Leaves   Expl. | BestBound       BestSol              Gap |   Cuts   InLp Confl. | LpIters     Time\n",
      "\n",
      "         0       0         0   0.00%   411             inf                  inf        0      0      0         0     0.0s\n",
      " R       0       0         0   0.00%   1223.682601     1441              15.08%        0      0      0       991     0.1s\n",
      " L       0       0         0   0.00%   1235.052377     1300               5.00%      391     65      4      2766     2.2s\n",
      "\n",
      "1.0% inactive integer columns, restarting\n",
      "Model after restart has 199 rows, 475 cols (396 bin., 0 int., 0 impl., 79 cont.), and 4153 nonzeros\n",
      "\n",
      "         0       0         0   0.00%   1235.3647       1300               4.97%       27      0      0      5724     2.3s\n",
      "         0       0         0   0.00%   1235.3647       1300               4.97%       27     16      0      6015     2.4s\n",
      " L       0       0         0   0.00%   1237.206021     1287               3.87%      329     53      0      9121     4.3s\n",
      " B      32       0        10   2.40%   1237.206021     1284               3.64%      376     23    382     32402     6.8s\n",
      " B      56       6        15   2.76%   1237.206021     1281               3.42%      423     31    739     36404     7.1s\n",
      " L      60       8        15   4.69%   1238.691184     1257               1.46%      442     37    739     36601     8.5s\n",
      " T      83       8        19  10.95%   1238.691184     1254               1.22%      461     37    837     48414     8.7s\n",
      " T      91       8        24  10.95%   1238.691184     1251               0.98%      475     37    939     48756     8.8s\n",
      " T     111       8        30  12.68%   1238.691184     1248               0.75%      521     37   1197     53056     9.2s\n",
      " B     125       9        36  12.69%   1238.691184     1247               0.67%      540     37   1282     54348     9.3s\n",
      " T     218      26        72  14.10%   1238.691184     1246               0.59%      687     45   2209     71714    10.8s\n",
      " B     220      20        73  60.97%   1238.691184     1244               0.43%      688     45   2209     71749    10.9s\n",
      " B     286       6        97  63.96%   1238.691184     1242               0.27%      644     48   2583     80633    11.6s\n",
      "       295       0       104 100.00%   1242            1242               0.00%      634     39   2610     82854    11.9s\n",
      "\n",
      "Solving report\n",
      "  Status            Optimal\n",
      "  Primal bound      1242\n",
      "  Dual bound        1242\n",
      "  Gap               0% (tolerance: 0.01%)\n",
      "  P-D integral      0.581169990605\n",
      "  Solution status   feasible\n",
      "                    1242 (objective)\n",
      "                    0 (bound viol.)\n",
      "                    4.57559874888e-15 (int. viol.)\n",
      "                    0 (row viol.)\n",
      "  Timing            11.90 (total)\n",
      "                    0.00 (presolve)\n",
      "                    0.00 (solve)\n",
      "                    0.00 (postsolve)\n",
      "  Max sub-MIP depth 4\n",
      "  Nodes             295\n",
      "  Repair LPs        0 (0 feasible; 0 iterations)\n",
      "  LP iterations     82854 (total)\n",
      "                    38944 (strong br.)\n",
      "                    6673 (separation)\n",
      "                    18679 (heuristics)\n"
     ]
    },
    {
     "data": {
      "text/plain": [
       "{'Problem': [{'Lower bound': 1242.0, 'Upper bound': 1242.0, 'Number of objectives': 1, 'Number of constraints': 0, 'Number of variables': 0, 'Sense': 'minimize'}], 'Solver': [{'Status': 'ok', 'Termination condition': 'optimal', 'Termination message': 'TerminationCondition.optimal'}], 'Solution': [OrderedDict([('number of solutions', 0), ('number of solutions displayed', 0)])]}"
      ]
     },
     "execution_count": 7,
     "metadata": {},
     "output_type": "execute_result"
    }
   ],
   "source": [
    "import pyomo.environ as pyo\n",
    "\n",
    "model = positional_model(p)\n",
    "\n",
    "# HiGHS\n",
    "solver = pyo.SolverFactory('appsi_highs')\n",
    "solver.options['mip_heuristic_effort'] = 0.1\n",
    "solver.options['time_limit'] = 600\n",
    "solver.options['log_file'] = 'Highs.log'\n",
    "solver.solve(model, tee=True)"
   ]
  }
 ],
 "metadata": {
  "kernelspec": {
   "display_name": "venv",
   "language": "python",
   "name": "python3"
  },
  "language_info": {
   "codemirror_mode": {
    "name": "ipython",
    "version": 3
   },
   "file_extension": ".py",
   "mimetype": "text/x-python",
   "name": "python",
   "nbconvert_exporter": "python",
   "pygments_lexer": "ipython3",
   "version": "3.11.9"
  }
 },
 "nbformat": 4,
 "nbformat_minor": 2
}
