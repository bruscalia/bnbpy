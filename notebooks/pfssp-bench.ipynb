{
 "cells": [
  {
   "cell_type": "markdown",
   "metadata": {},
   "source": [
    "# Permutation Flow-Shop Scheduling Problem\n",
    "\n",
    "This is a variant of the Flot-shop scheduling problem (FSSP) in which the sequence of jobs is the same in every machine.\n",
    "\n",
    "$$\n",
    " \\begin{align}\n",
    "     \\text{min} \\quad & C_{\\text{max}} \\\\\n",
    "     \\text{s.t.} \\quad & x_{m-1, j} + p_{m, j} \\leq x_{m, j}\n",
    "         & \\forall ~ j \\in J; m \\in (2, ..., |M|)\\\\\n",
    "     & x_{m, j} + p_{m, j} \\leq x_{m, k} \\lor x_{m, k} + p_{m, k} \\leq x_{m, j}\n",
    "         & \\forall ~ j \\in J; k \\in J, j \\neq k\\\\\n",
    "     & x_{|M|, j} + p_{|M|, j} \\leq C_{\\text{max}}\n",
    "         & \\forall ~ j \\in J\\\\\n",
    "     & x_{m, j} \\geq 0 & \\forall ~ j \\in J; m \\in M\\\\\n",
    "     & z_{j, k} \\in \\{0, 1\\} & \\forall ~ j \\in J; k \\in J, j \\neq k\\\\\n",
    " \\end{align}\n",
    " $$\n",
    "\n",
    " You can compare this implementation to MILP solvers at the [end of the notebook](#bonus---milp-model)."
   ]
  },
  {
   "cell_type": "code",
   "execution_count": 6,
   "metadata": {},
   "outputs": [],
   "source": [
    "import json\n",
    "\n",
    "from bnbprob.pfssp import CallbackBnB, PermFlowShop, plot_gantt\n",
    "from bnbprob.pfssp.mip import positional_model\n",
    "\n",
    "# from bnbprob.pfssp.pypure.problem import PermFlowShop\n",
    "from bnbpy import configure_logfile"
   ]
  },
  {
   "cell_type": "code",
   "execution_count": 7,
   "metadata": {},
   "outputs": [],
   "source": [
    "configure_logfile(\"pfssp-bench.log\", mode=\"w\")"
   ]
  },
  {
   "cell_type": "code",
   "execution_count": 8,
   "metadata": {},
   "outputs": [
    {
     "name": "stdout",
     "output_type": "stream",
     "text": [
      "20 Jobs; 10 Machines\n"
     ]
    }
   ],
   "source": [
    "with open(\"./../data/flow-shop/reC11.json\", mode=\"r\", encoding=\"utf8\") as f:\n",
    "    p = json.load(f)\n",
    "\n",
    "print(f\"{len(p)} Jobs; {len(p[0])} Machines\")"
   ]
  },
  {
   "cell_type": "code",
   "execution_count": 9,
   "metadata": {},
   "outputs": [],
   "source": [
    "problem = PermFlowShop.from_p(p, constructive='neh')\n",
    "bnb = CallbackBnB(\n",
    "    eval_node='in', rtol=0.0001, restart_freq=200, save_tree=False\n",
    ")"
   ]
  },
  {
   "cell_type": "code",
   "execution_count": 10,
   "metadata": {},
   "outputs": [
    {
     "name": "stdout",
     "output_type": "stream",
     "text": [
      "Status: OPTIMAL | Cost: 1431 | LB: 1431.0\n"
     ]
    }
   ],
   "source": [
    "sol = bnb.solve(\n",
    "    problem, maxiter=1000000, timelimit=600\n",
    ")\n",
    "print(sol)"
   ]
  },
  {
   "cell_type": "code",
   "execution_count": null,
   "metadata": {},
   "outputs": [],
   "source": [
    "plot_gantt(sol.sequence, dpi=120, seed=42, figsize=[8, 3])"
   ]
  },
  {
   "cell_type": "code",
   "execution_count": null,
   "metadata": {},
   "outputs": [],
   "source": [
    "import pyomo.environ as pyo\n",
    "\n",
    "model = positional_model(p)\n",
    "\n",
    "# HiGHS\n",
    "solver = pyo.SolverFactory('appsi_highs')\n",
    "solver.options['mip_heuristic_effort'] = 0.1\n",
    "solver.options['time_limit'] = 600\n",
    "solver.options['log_file'] = 'Highs.log'\n",
    "solver.solve(model, tee=True)"
   ]
  }
 ],
 "metadata": {
  "kernelspec": {
   "display_name": ".venv",
   "language": "python",
   "name": "python3"
  },
  "language_info": {
   "codemirror_mode": {
    "name": "ipython",
    "version": 3
   },
   "file_extension": ".py",
   "mimetype": "text/x-python",
   "name": "python",
   "nbconvert_exporter": "python",
   "pygments_lexer": "ipython3",
   "version": "3.11.9"
  }
 },
 "nbformat": 4,
 "nbformat_minor": 2
}
