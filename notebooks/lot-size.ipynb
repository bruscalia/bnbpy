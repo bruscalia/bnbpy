{
 "cells": [
  {
   "cell_type": "markdown",
   "metadata": {},
   "source": [
    "# Dynamic lot-size model\n",
    "\n",
    "This is a classic problem in balancing between holding inventory and setup costs. Originally proposed by Wagner & Whitin (1958).\n",
    "\n",
    "$$\n",
    "\\begin{align}\n",
    "    \\text{min}~~ & \\sum_{t \\in T}{(h_{t} I_{t} + s_{t} y_{t})} \\\\\n",
    "    \\text{s.t.}~~ & I_{t} = I_{t - 1} + x_{t} - d_{t} & \\forall ~ t \\in T; t \\geq 2\\\\\n",
    "    & I_{1} = I_{0} + x_{1} - d_{1}\\\\\n",
    "    & x_{t} \\leq M y_{t} & \\forall ~ t \\in T \\\\\n",
    "    & x_{t}; I_{t} \\geq 0 & \\forall ~ t \\in T \\\\\n",
    "    & y_{t} \\in \\left \\{ 0, 1 \\right \\} & \\forall ~ t \\in T\\\\\n",
    "\\end{align}\n",
    "$$"
   ]
  },
  {
   "cell_type": "code",
   "execution_count": 1,
   "metadata": {},
   "outputs": [],
   "source": [
    "import numpy as np\n",
    "import pandas as pd\n",
    "\n",
    "from bnbprob.milpy import MILP\n",
    "from bnbpy import BranchAndBound, configure_logfile"
   ]
  },
  {
   "cell_type": "code",
   "execution_count": 2,
   "metadata": {},
   "outputs": [],
   "source": [
    "data = pd.read_csv(\"./../data/lot_size.csv\")"
   ]
  },
  {
   "cell_type": "markdown",
   "metadata": {},
   "source": [
    "## Write problem to matrix form"
   ]
  },
  {
   "cell_type": "code",
   "execution_count": 3,
   "metadata": {},
   "outputs": [],
   "source": [
    "def create_lot_size(\n",
    "    d: np.ndarray,\n",
    "    s: np.ndarray,\n",
    "    h: np.ndarray,\n",
    "    **kwargs\n",
    ") -> MILP:\n",
    "\n",
    "    # Number of periods and big M\n",
    "    T = len(d)\n",
    "    M = sum(d)\n",
    "\n",
    "    # 1. Cost vector: c = [0, ..., 0, h1, ..., hT, K1, ..., KT]\n",
    "    # Production costs are zero in this basic model.\n",
    "    c = np.concatenate([\n",
    "        np.zeros(T),  # Production costs (assumed zero for now)\n",
    "        h,  # Holding costs\n",
    "        s,  # Setup costs\n",
    "    ])\n",
    "\n",
    "    # 2. Equality constraints (inventory balance): A_eq * x = b_eq\n",
    "    A_eq = np.zeros((T, 3 * T))\n",
    "    b_eq = np.array(d)  # Demand values\n",
    "\n",
    "    for t in range(T):\n",
    "        A_eq[t, t] = 1  # Coefficient of x_t in period t\n",
    "        if t > 0:\n",
    "            A_eq[t, T + t - 1] = 1  # Coefficient of I_{t-1} in period t\n",
    "        A_eq[t, T + t] = -1  # Coefficient of I_t in period t\n",
    "\n",
    "    # 3. Inequality constraints (setup cost constraints): A_ub * x <= b_ub\n",
    "    A_ub = np.zeros((T, 3 * T))\n",
    "    b_ub = np.zeros(T)  # Right-hand side is zero for all setup constraints\n",
    "\n",
    "    for t in range(T):\n",
    "        A_ub[t, t] = 1  # Coefficient of x_t in period t\n",
    "        A_ub[\n",
    "            t, 2 * T + t\n",
    "        ] = -M\n",
    "\n",
    "    x_ub = np.ones_like(c)\n",
    "    x_ub[: 2 * T] = M\n",
    "    x_ub[2 * T:] = 1.0\n",
    "\n",
    "    def _idx_bounds(i: int):\n",
    "        if i < 2 * T:\n",
    "            return (0, None)\n",
    "        return (0, 1)\n",
    "\n",
    "    bounds = [_idx_bounds(i) for i in range(3 * T)]\n",
    "\n",
    "    integrality = np.zeros_like(c)\n",
    "    integrality[2 * T:] = 1.0\n",
    "\n",
    "    milp = MILP(\n",
    "        c,\n",
    "        A_eq=A_eq,\n",
    "        b_eq=b_eq,\n",
    "        A_ub=A_ub,\n",
    "        b_ub=b_ub,\n",
    "        bounds=bounds,\n",
    "        integrality=integrality,\n",
    "        **kwargs\n",
    "    )\n",
    "\n",
    "    return milp"
   ]
  },
  {
   "cell_type": "markdown",
   "metadata": {},
   "source": [
    "## Solve with bnbpy"
   ]
  },
  {
   "cell_type": "code",
   "execution_count": 4,
   "metadata": {},
   "outputs": [],
   "source": [
    "milp = create_lot_size(\n",
    "    data['demand'].values,\n",
    "    data['setup_cost'].values,\n",
    "    data['inventory_cost'].values,\n",
    "    branching=\"max\",\n",
    "    seed=42\n",
    ")\n",
    "\n",
    "bnb = BranchAndBound(eval_node=\"out\")\n",
    "\n",
    "configure_logfile(\"lotsize.log\", mode=\"w\")"
   ]
  },
  {
   "cell_type": "code",
   "execution_count": 5,
   "metadata": {},
   "outputs": [
    {
     "data": {
      "text/plain": [
       "Status: OPTIMAL | Cost: 864.0 | LB: 864.0"
      ]
     },
     "execution_count": 5,
     "metadata": {},
     "output_type": "execute_result"
    }
   ],
   "source": [
    "bnb.solve(milp, maxiter=20000)"
   ]
  },
  {
   "cell_type": "markdown",
   "metadata": {},
   "source": [
    "## Reference\n",
    "Wagner, H. M., & Whitin, T. M. (1958). Dynamic version of the economic lot size model. Management science, 5(1), 89–96."
   ]
  }
 ],
 "metadata": {
  "kernelspec": {
   "display_name": "venv",
   "language": "python",
   "name": "python3"
  },
  "language_info": {
   "codemirror_mode": {
    "name": "ipython",
    "version": 3
   },
   "file_extension": ".py",
   "mimetype": "text/x-python",
   "name": "python",
   "nbconvert_exporter": "python",
   "pygments_lexer": "ipython3",
   "version": "3.12.10"
  }
 },
 "nbformat": 4,
 "nbformat_minor": 2
}
