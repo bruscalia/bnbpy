{
 "cells": [
  {
   "cell_type": "markdown",
   "metadata": {},
   "source": [
    "# Cutting stock problem (1d)"
   ]
  },
  {
   "cell_type": "code",
   "execution_count": null,
   "metadata": {},
   "outputs": [],
   "source": [
    "import matplotlib.pyplot as plt\n",
    "import numpy as np\n",
    "import pandas as pd\n",
    "from scipy.optimize import linprog\n",
    "\n",
    "from bnbprob.milpy.colgen import ColGenMILP, MILPColumn, MILPDuals\n",
    "from bnbpy import BranchAndBound, PriceSol, Pricing, configure_logfile"
   ]
  },
  {
   "cell_type": "markdown",
   "metadata": {},
   "source": [
    "## Master Problem\n",
    "\n",
    "$$\n",
    " \\begin{align}\n",
    "     \\text{min} \\quad & \\sum_{p \\in P} c_{p} x_{p} \\\\\n",
    "     \\text{s.t} \\quad & d_{i} \\leq \\sum_{p \\in P} a_{i, p} x_{p} & \\forall \\; i \\in I \\\\\n",
    "     & x_{p} \\geq 0 & \\forall \\; p \\in P \\\\\n",
    "     & x_{p} \\in \\mathbb{Z} & \\forall \\; p \\in P\n",
    " \\end{align}\n",
    " $$\n",
    "\n",
    "\n",
    " ## Pricing Problem\n",
    "\n",
    " $$\n",
    " \\begin{align}\n",
    "     \\text{max} \\quad & \\sum_{i \\in I} \\pi_{i} y_{i} \\\\\n",
    "     \\text{s.t} \\quad & \\sum_{i \\in I} w_{i} y_{i} \\leq W\\\\\n",
    "     & y_{i} \\geq 0 & \\forall \\; i \\in I \\\\\n",
    "     & y_{i} \\in \\mathbb{Z} & \\forall \\; i \\in I\n",
    " \\end{align}\n",
    " $$"
   ]
  },
  {
   "cell_type": "code",
   "execution_count": 2,
   "metadata": {},
   "outputs": [],
   "source": [
    "configure_logfile(\"cutting-stock.log\", mode=\"w\")"
   ]
  },
  {
   "cell_type": "code",
   "execution_count": 3,
   "metadata": {},
   "outputs": [],
   "source": [
    "def solve_knapsack(\n",
    "    capacity: float,\n",
    "    weights: np.ndarray,\n",
    "    costs: np.ndarray\n",
    "):\n",
    "    return linprog(\n",
    "        -costs,\n",
    "        A_ub=np.atleast_2d(weights),\n",
    "        b_ub=np.atleast_1d(capacity),\n",
    "        bounds=(0, None),\n",
    "        integrality=1,\n",
    "    )\n",
    "\n",
    "\n",
    "class KnapsackPricing(Pricing):\n",
    "    def __init__(self, capacity: float, weights: np.ndarray, price_tol=0.01):\n",
    "        super().__init__(price_tol)\n",
    "        self.capacity = capacity\n",
    "        self.weights = weights\n",
    "        self.c = None\n",
    "\n",
    "    def set_weights(self, c: MILPDuals):\n",
    "        # Check if master problem was feasible (therefore we have duals)\n",
    "        if c.ineqlin is None:\n",
    "            self.c = None\n",
    "            return\n",
    "        self.c = -c.ineqlin\n",
    "\n",
    "    def solve(self) -> PriceSol:\n",
    "        # If master problem was not feasible, return an empty price solution\n",
    "        if self.c is None:\n",
    "            return PriceSol(float('inf'), None)\n",
    "        # Otherwise solve knapsack\n",
    "        sol = solve_knapsack(self.capacity, self.weights, self.c)\n",
    "        new_col = MILPColumn(a_ub=-sol.x, c=1.0, bounds=(0, None))\n",
    "        return PriceSol(1 + sol.fun, new_col)"
   ]
  },
  {
   "cell_type": "code",
   "execution_count": 4,
   "metadata": {},
   "outputs": [],
   "source": [
    "class CuttingStock(ColGenMILP):\n",
    "    def __init__(\n",
    "        self,\n",
    "        total_width: float,\n",
    "        w: np.ndarray,\n",
    "        d: np.ndarray,\n",
    "        price_tol: float = 1e-2,\n",
    "        **kwargs,\n",
    "    ):\n",
    "        \"\"\"Cutting stock problem\n",
    "\n",
    "        Parameters\n",
    "        ----------\n",
    "        total_width : float\n",
    "            Total width of 1d piece (in the equation $W$)\n",
    "\n",
    "        w : np.ndarray\n",
    "            Width of each individual demand (in the equation $w_j$)\n",
    "\n",
    "        d : np.ndarray\n",
    "            Total demand for each piece (in the equation $d_j$)\n",
    "\n",
    "        price_tol : float, optional\n",
    "            Tolerance in pricing problem, by default 1e-2\n",
    "        \"\"\"\n",
    "        pricing = KnapsackPricing(total_width, w, price_tol=price_tol)\n",
    "        A = np.eye((len(w))) * (total_width // w)\n",
    "        c = np.ones_like(w)\n",
    "        super().__init__(\n",
    "            c,\n",
    "            A_ub=-A,\n",
    "            b_ub=-d,\n",
    "            bounds=(0, None),\n",
    "            integrality=1,\n",
    "            pricing=pricing,\n",
    "            **kwargs,\n",
    "        )\n",
    "\n",
    "    def calc_bound(self):\n",
    "        f = super().calc_bound()\n",
    "        if f < float('inf'):\n",
    "            return int(round(f, 2))\n",
    "        return f"
   ]
  },
  {
   "cell_type": "code",
   "execution_count": 5,
   "metadata": {},
   "outputs": [
    {
     "name": "stdout",
     "output_type": "stream",
     "text": [
      "Status: OPTIMAL | Cost: 334 | LB: 334\n"
     ]
    }
   ],
   "source": [
    "total_width = 100.0\n",
    "\n",
    "# Instance from https://jump.dev/JuMP.jl/stable/tutorials/algorithms/cutting_stock_column_generation/\n",
    "dataset = pd.read_csv('../data/cut-stock/data.txt', sep=' ')\n",
    "\n",
    "\n",
    "problem = CuttingStock(\n",
    "    total_width, dataset.w.values, dataset.d.values, price_tol=1e-2\n",
    ")\n",
    "bnb = BranchAndBound()\n",
    "sol = bnb.solve(problem)\n",
    "print(sol)"
   ]
  },
  {
   "cell_type": "code",
   "execution_count": 6,
   "metadata": {},
   "outputs": [
    {
     "data": {
      "image/png": "[encoded data removed]",
      "text/plain": [
       "<Figure size 700x300 with 1 Axes>"
      ]
     },
     "metadata": {},
     "output_type": "display_data"
    }
   ],
   "source": [
    "fig, ax = plt.subplots(figsize=[7, 3], dpi=100)\n",
    "hmap = ax.imshow(-sol.problem.A_ub > 1e-6, cmap=\"Blues\")\n",
    "plt.axis('off')\n",
    "fig.tight_layout()\n",
    "plt.show()"
   ]
  }
 ],
 "metadata": {
  "kernelspec": {
   "display_name": "venv",
   "language": "python",
   "name": "python3"
  },
  "language_info": {
   "codemirror_mode": {
    "name": "ipython",
    "version": 3
   },
   "file_extension": ".py",
   "mimetype": "text/x-python",
   "name": "python",
   "nbconvert_exporter": "python",
   "pygments_lexer": "ipython3",
   "version": "3.11.9"
  }
 },
 "nbformat": 4,
 "nbformat_minor": 2
}
