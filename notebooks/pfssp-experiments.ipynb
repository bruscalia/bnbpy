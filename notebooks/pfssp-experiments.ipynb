{
 "cells": [
  {
   "cell_type": "markdown",
   "metadata": {},
   "source": [
    "# Permutation Flow-Shop Scheduling Problem\n",
    "\n",
    "This is a variant of the Flot-shop scheduling problem (FSSP) in which the sequence of jobs is the same in every machine.\n",
    "\n",
    "$$\n",
    " \\begin{align}\n",
    "     \\text{min} \\quad & C_{\\text{max}} \\\\\n",
    "     \\text{s.t.} \\quad & x_{m-1, j} + p_{m, j} \\leq x_{m, j}\n",
    "         & \\forall ~ j \\in J; m \\in (2, ..., |M|)\\\\\n",
    "     & x_{m, j} + p_{m, j} \\leq x_{m, k} \\lor x_{m, k} + p_{m, k} \\leq x_{m, j}\n",
    "         & \\forall ~ j \\in J; k \\in J, j \\neq k\\\\\n",
    "     & x_{|M|, j} + p_{|M|, j} \\leq C_{\\text{max}}\n",
    "         & \\forall ~ j \\in J\\\\\n",
    "     & x_{m, j} \\geq 0 & \\forall ~ j \\in J; m \\in M\\\\\n",
    "     & z_{j, k} \\in \\{0, 1\\} & \\forall ~ j \\in J; k \\in J, j \\neq k\\\\\n",
    " \\end{align}\n",
    " $$\n",
    "\n",
    " You can compare this implementation to MILP solvers at the [end of the notebook](#bonus---milp-model)."
   ]
  },
  {
   "cell_type": "code",
   "execution_count": 1,
   "metadata": {},
   "outputs": [],
   "source": [
    "import json\n",
    "import time\n",
    "\n",
    "import pandas as pd\n",
    "\n",
    "from bnbprob.pfssp import CallbackBnB, PermFlowShop\n",
    "from bnbpy import configure_logfile"
   ]
  },
  {
   "cell_type": "code",
   "execution_count": 2,
   "metadata": {},
   "outputs": [],
   "source": [
    "configure_logfile(\"pfssp-experiments.log\", mode=\"w\")"
   ]
  },
  {
   "cell_type": "code",
   "execution_count": 3,
   "metadata": {},
   "outputs": [],
   "source": [
    "\n",
    "solutions = {}\n",
    "problems = [f'car{i}' for i in range(1, 9)] + [\n",
    "    f'reC{str(i).zfill(2)}' for i in range(1, 12, 2)\n",
    "] + [\n",
    "    f'ta{str(i).zfill(3)}' for i in range(1, 21, 1)\n",
    "]\n",
    "\n",
    "for prob in problems:\n",
    "    with open(\n",
    "        f'./../data/flow-shop/{prob}.json', mode='r', encoding='utf8'\n",
    "    ) as f:\n",
    "        p = json.load(f)\n",
    "        problem = PermFlowShop.from_p(p, constructive='neh')\n",
    "        bnb = CallbackBnB(eval_node='in', rtol=0.0001)\n",
    "\n",
    "        start = time.time()\n",
    "        sol = bnb.solve(problem, maxiter=5_000_000, timelimit=3600)\n",
    "        duration = time.time() - start\n",
    "        solutions[prob] = (sol, duration)\n",
    "\n",
    "        del bnb\n",
    "        del problem\n",
    "        time.sleep(0.1)"
   ]
  },
  {
   "cell_type": "code",
   "execution_count": 4,
   "metadata": {},
   "outputs": [],
   "source": [
    "# Export to dataframe\n",
    "problems_ = []\n",
    "ub = []\n",
    "lb = []\n",
    "gap = []\n",
    "time_ = []\n",
    "\n",
    "for key, val in solutions.items():\n",
    "    sol, t = val\n",
    "    problems_.append(key)\n",
    "    ub.append(sol.cost)\n",
    "    lb.append(sol.lb)\n",
    "    gap.append(abs(sol.cost - sol.lb) / sol.cost)\n",
    "    time_.append(t)\n",
    "\n",
    "\n",
    "df = pd.DataFrame({\n",
    "    \"problem\": problems_,\n",
    "    \"ub\": ub,\n",
    "    \"lb\": lb,\n",
    "    \"gap\": gap,\n",
    "    \"time\": time_\n",
    "})\n",
    "\n",
    "df.to_excel(\"bench-pfssp.xlsx\")"
   ]
  }
 ],
 "metadata": {
  "kernelspec": {
   "display_name": "venv",
   "language": "python",
   "name": "python3"
  },
  "language_info": {
   "codemirror_mode": {
    "name": "ipython",
    "version": 3
   },
   "file_extension": ".py",
   "mimetype": "text/x-python",
   "name": "python",
   "nbconvert_exporter": "python",
   "pygments_lexer": "ipython3",
   "version": "3.11.9"
  }
 },
 "nbformat": 4,
 "nbformat_minor": 2
}
