{
 "cells": [
  {
   "cell_type": "markdown",
   "metadata": {},
   "source": [
    "# Permutation Flow-Shop Scheduling Problem\n",
    "\n",
    "This is a variant of the Flot-shop scheduling problem (FSSP) in which the sequence of jobs is the same in every machine.\n",
    "\n",
    "$$\n",
    " \\begin{align}\n",
    "     \\text{min} \\quad & C_{\\text{max}} \\\\\n",
    "     \\text{s.t.} \\quad & x_{m-1, j} + p_{m, j} \\leq x_{m, j}\n",
    "         & \\forall ~ j \\in J; m \\in (2, ..., |M|)\\\\\n",
    "     & x_{m, j} + p_{m, j} \\leq x_{m, k} \\lor x_{m, k} + p_{m, k} \\leq x_{m, j}\n",
    "         & \\forall ~ j \\in J; k \\in J, j \\neq k\\\\\n",
    "     & x_{|M|, j} + p_{|M|, j} \\leq C_{\\text{max}}\n",
    "         & \\forall ~ j \\in J\\\\\n",
    "     & x_{m, j} \\geq 0 & \\forall ~ j \\in J; m \\in M\\\\\n",
    "     & z_{j, k} \\in \\{0, 1\\} & \\forall ~ j \\in J; k \\in J, j \\neq k\\\\\n",
    " \\end{align}\n",
    " $$\n",
    "\n",
    " You can compare this implementation to MILP solvers at the [end of the notebook](#bonus---milp-model)."
   ]
  },
  {
   "cell_type": "code",
   "execution_count": null,
   "metadata": {},
   "outputs": [],
   "source": []
  },
  {
   "cell_type": "code",
   "execution_count": 1,
   "metadata": {},
   "outputs": [],
   "source": [
    "# from bnbprob.pfssp.cython.job import Job as CJob\n",
    "# from bnbprob.pfssp.cython.sequence import Sigma1 as CSigma1\n",
    "# from bnbprob.pfssp.cython.sequence import Sigma2 as CSigma2\n",
    "from bnbprob.pfssp.cython.solution import Permutation as PyPermutation\n",
    "from bnbprob.pfssp.job import Job\n",
    "from bnbprob.pfssp.sequence import Sigma1\n",
    "from bnbprob.pfssp.sequence import Sigma2\n",
    "from bnbprob.pfssp.solution import Permutation\n",
    "from bnbprob.pfssp.problem import PermFlowShopLazy\n",
    "from bnbprob.pfssp.cython.problem import PermFlowShopLazy as CyPermFlowShopLazy"
   ]
  },
  {
   "cell_type": "code",
   "execution_count": 2,
   "metadata": {},
   "outputs": [],
   "source": [
    "p = [\n",
    "    [5, 9, 7, 4, 6, 9, 14, 4],\n",
    "    [9, 3, 3, 8, 5, 8, 5, 4],\n",
    "    [8, 10, 5, 6, 11, 2, 11, 6],\n",
    "    [1, 8, 6, 2, 8, 3, 3, 4],\n",
    "    [2, 8, 3, 2, 8, 3, 5, 2],\n",
    "    [12, 8, 6, 2, 4, 3, 6, 12],\n",
    "    [1, 8, 4, 2, 7, 3, 4, 7],\n",
    "]\n",
    "\n",
    "cyperm = PyPermutation.from_p(p)\n",
    "# for _ in range(len(p)):\n",
    "#     cyperm.push_job(0)\n",
    "\n",
    "# cyperm.quick_constructive().local_search()"
   ]
  },
  {
   "cell_type": "code",
   "execution_count": 3,
   "metadata": {},
   "outputs": [
    {
     "data": {
      "text/plain": [
       "83"
      ]
     },
     "execution_count": 3,
     "metadata": {},
     "output_type": "execute_result"
    }
   ],
   "source": [
    "cyperm.calc_bound()"
   ]
  },
  {
   "cell_type": "code",
   "execution_count": 4,
   "metadata": {},
   "outputs": [
    {
     "data": {
      "text/plain": [
       "101"
      ]
     },
     "execution_count": 4,
     "metadata": {},
     "output_type": "execute_result"
    }
   ],
   "source": [
    "cyperm.perm.local_search().calc_bound()"
   ]
  },
  {
   "cell_type": "code",
   "execution_count": 5,
   "metadata": {},
   "outputs": [
    {
     "data": {
      "text/plain": [
       "83"
      ]
     },
     "execution_count": 5,
     "metadata": {},
     "output_type": "execute_result"
    }
   ],
   "source": [
    "cyperm.perm.calc_bound()"
   ]
  },
  {
   "cell_type": "code",
   "execution_count": 6,
   "metadata": {},
   "outputs": [
    {
     "data": {
      "text/plain": [
       "91"
      ]
     },
     "execution_count": 6,
     "metadata": {},
     "output_type": "execute_result"
    }
   ],
   "source": [
    "cyperm.neh_constructive().perm.local_search().calc_bound()"
   ]
  },
  {
   "cell_type": "code",
   "execution_count": 7,
   "metadata": {},
   "outputs": [
    {
     "data": {
      "text/plain": [
       "92"
      ]
     },
     "execution_count": 7,
     "metadata": {},
     "output_type": "execute_result"
    }
   ],
   "source": [
    "cyperm.quick_constructive().local_search().calc_bound()"
   ]
  },
  {
   "cell_type": "code",
   "execution_count": 8,
   "metadata": {},
   "outputs": [
    {
     "data": {
      "text/plain": [
       "[{'j': 6,\n",
       "  'p': [1, 8, 4, 2, 7, 3, 4, 7],\n",
       "  'r': [0, 0, 0, 0, 0, 0, 0, 0],\n",
       "  'q': [0, 0, 0, 0, 0, 0, 0, 0],\n",
       "  'lat': [[0, 0, 0, 0, 0, 0, 0, 0],\n",
       "   [0, 0, 0, 0, 0, 0, 0, 0],\n",
       "   [8, 0, 0, 0, 0, 0, 0, 0],\n",
       "   [12, 4, 0, 0, 0, 0, 0, 0],\n",
       "   [14, 6, 2, 0, 0, 0, 0, 0],\n",
       "   [21, 13, 9, 7, 0, 0, 0, 0],\n",
       "   [24, 16, 12, 10, 3, 0, 0, 0],\n",
       "   [28, 20, 16, 14, 7, 4, 0, 0]],\n",
       "  'slope': -6,\n",
       "  'T': 36},\n",
       " {'j': 0,\n",
       "  'p': [5, 9, 7, 4, 6, 9, 14, 4],\n",
       "  'r': [1, 0, 0, 0, 0, 0, 0, 0],\n",
       "  'q': [0, 0, 0, 0, 0, 0, 0, 0],\n",
       "  'lat': [[0, 0, 0, 0, 0, 0, 0, 0],\n",
       "   [0, 0, 0, 0, 0, 0, 0, 0],\n",
       "   [9, 0, 0, 0, 0, 0, 0, 0],\n",
       "   [16, 7, 0, 0, 0, 0, 0, 0],\n",
       "   [20, 11, 4, 0, 0, 0, 0, 0],\n",
       "   [26, 17, 10, 6, 0, 0, 0, 0],\n",
       "   [35, 26, 19, 15, 9, 0, 0, 0],\n",
       "   [49, 40, 33, 29, 23, 14, 0, 0]],\n",
       "  'slope': -16,\n",
       "  'T': 58},\n",
       " {'j': 3,\n",
       "  'p': [1, 8, 6, 2, 8, 3, 3, 4],\n",
       "  'r': [6, 0, 0, 0, 0, 0, 0, 0],\n",
       "  'q': [0, 0, 0, 0, 0, 0, 0, 0],\n",
       "  'lat': [[0, 0, 0, 0, 0, 0, 0, 0],\n",
       "   [0, 0, 0, 0, 0, 0, 0, 0],\n",
       "   [8, 0, 0, 0, 0, 0, 0, 0],\n",
       "   [14, 6, 0, 0, 0, 0, 0, 0],\n",
       "   [16, 8, 2, 0, 0, 0, 0, 0],\n",
       "   [24, 16, 10, 8, 0, 0, 0, 0],\n",
       "   [27, 19, 13, 11, 3, 0, 0, 0],\n",
       "   [30, 22, 16, 14, 6, 3, 0, 0]],\n",
       "  'slope': -21,\n",
       "  'T': 35},\n",
       " {'j': 1,\n",
       "  'p': [9, 3, 3, 8, 5, 8, 5, 4],\n",
       "  'r': [9, 0, 0, 0, 0, 0, 0, 0],\n",
       "  'q': [0, 0, 0, 0, 0, 0, 0, 0],\n",
       "  'lat': [[0, 0, 0, 0, 0, 0, 0, 0],\n",
       "   [0, 0, 0, 0, 0, 0, 0, 0],\n",
       "   [3, 0, 0, 0, 0, 0, 0, 0],\n",
       "   [6, 3, 0, 0, 0, 0, 0, 0],\n",
       "   [14, 11, 8, 0, 0, 0, 0, 0],\n",
       "   [19, 16, 13, 5, 0, 0, 0, 0],\n",
       "   [27, 24, 21, 13, 8, 0, 0, 0],\n",
       "   [32, 29, 26, 18, 13, 5, 0, 0]],\n",
       "  'slope': -29,\n",
       "  'T': 45},\n",
       " {'j': 5,\n",
       "  'p': [12, 8, 6, 2, 4, 3, 6, 12],\n",
       "  'r': [18, 0, 0, 0, 0, 0, 0, 0],\n",
       "  'q': [0, 0, 0, 0, 0, 0, 0, 0],\n",
       "  'lat': [[0, 0, 0, 0, 0, 0, 0, 0],\n",
       "   [0, 0, 0, 0, 0, 0, 0, 0],\n",
       "   [8, 0, 0, 0, 0, 0, 0, 0],\n",
       "   [14, 6, 0, 0, 0, 0, 0, 0],\n",
       "   [16, 8, 2, 0, 0, 0, 0, 0],\n",
       "   [20, 12, 6, 4, 0, 0, 0, 0],\n",
       "   [23, 15, 9, 7, 3, 0, 0, 0],\n",
       "   [29, 21, 15, 13, 9, 6, 0, 0]],\n",
       "  'slope': -35,\n",
       "  'T': 53},\n",
       " {'j': 2,\n",
       "  'p': [8, 10, 5, 6, 11, 2, 11, 6],\n",
       "  'r': [30, 0, 0, 0, 0, 0, 0, 0],\n",
       "  'q': [0, 0, 0, 0, 0, 0, 0, 0],\n",
       "  'lat': [[0, 0, 0, 0, 0, 0, 0, 0],\n",
       "   [0, 0, 0, 0, 0, 0, 0, 0],\n",
       "   [10, 0, 0, 0, 0, 0, 0, 0],\n",
       "   [15, 5, 0, 0, 0, 0, 0, 0],\n",
       "   [21, 11, 6, 0, 0, 0, 0, 0],\n",
       "   [32, 22, 17, 11, 0, 0, 0, 0],\n",
       "   [34, 24, 19, 13, 2, 0, 0, 0],\n",
       "   [45, 35, 30, 24, 13, 11, 0, 0]],\n",
       "  'slope': -36,\n",
       "  'T': 59},\n",
       " {'j': 4,\n",
       "  'p': [2, 8, 3, 2, 8, 3, 5, 2],\n",
       "  'r': [7, 0, 0, 0, 0, 0, 0, 0],\n",
       "  'q': [0, 0, 0, 0, 0, 0, 0, 0],\n",
       "  'lat': [[0, 0, 0, 0, 0, 0, 0, 0],\n",
       "   [0, 0, 0, 0, 0, 0, 0, 0],\n",
       "   [8, 0, 0, 0, 0, 0, 0, 0],\n",
       "   [11, 3, 0, 0, 0, 0, 0, 0],\n",
       "   [13, 5, 2, 0, 0, 0, 0, 0],\n",
       "   [21, 13, 10, 8, 0, 0, 0, 0],\n",
       "   [24, 16, 13, 11, 3, 0, 0, 0],\n",
       "   [29, 21, 18, 16, 8, 5, 0, 0]],\n",
       "  'slope': -21,\n",
       "  'T': 33}]"
      ]
     },
     "execution_count": 8,
     "metadata": {},
     "output_type": "execute_result"
    }
   ],
   "source": [
    "cyperm.quick_constructive().perm.local_search().sigma1.jobs"
   ]
  },
  {
   "cell_type": "code",
   "execution_count": 9,
   "metadata": {},
   "outputs": [
    {
     "data": {
      "text/plain": [
       "79"
      ]
     },
     "execution_count": 9,
     "metadata": {},
     "output_type": "execute_result"
    }
   ],
   "source": [
    "cyperm.perm.calc_bound()"
   ]
  },
  {
   "cell_type": "code",
   "execution_count": 10,
   "metadata": {},
   "outputs": [
    {
     "data": {
      "text/plain": [
       "[]"
      ]
     },
     "execution_count": 10,
     "metadata": {},
     "output_type": "execute_result"
    }
   ],
   "source": [
    "cyperm.perm.sigma1.jobs"
   ]
  },
  {
   "cell_type": "code",
   "execution_count": 11,
   "metadata": {},
   "outputs": [
    {
     "data": {
      "text/plain": [
       "93"
      ]
     },
     "execution_count": 11,
     "metadata": {},
     "output_type": "execute_result"
    }
   ],
   "source": [
    "PermFlowShopLazy.from_p(p).neh_constructive().calc_bound()"
   ]
  },
  {
   "cell_type": "code",
   "execution_count": 12,
   "metadata": {},
   "outputs": [],
   "source": [
    "pjobs = [\n",
    "    Job(i, p[i], [0] * len(p[i]), [0] * len(p[i]), [[]])\n",
    "    for i in range(len(p))\n",
    "]\n",
    "for job in pjobs:\n",
    "    job.fill_start(len(p[0]))\n",
    "\n",
    "pperm = Permutation(len(p[0]), pjobs)\n",
    "for _ in range(0):\n",
    "    pperm.push_job(0)"
   ]
  },
  {
   "cell_type": "code",
   "execution_count": 13,
   "metadata": {},
   "outputs": [
    {
     "name": "stdout",
     "output_type": "stream",
     "text": [
      "54\n",
      "54\n",
      "79\n",
      "84\n"
     ]
    }
   ],
   "source": [
    "print(cyperm.lower_bound_1m())\n",
    "print(pperm.lower_bound_1m())\n",
    "print(cyperm.lower_bound_2m())\n",
    "print(pperm.lower_bound_2m())"
   ]
  },
  {
   "cell_type": "code",
   "execution_count": 14,
   "metadata": {},
   "outputs": [
    {
     "name": "stdout",
     "output_type": "stream",
     "text": [
      "0.040999412536621094\n"
     ]
    }
   ],
   "source": [
    "import time\n",
    "\n",
    "s = time.time()\n",
    "\n",
    "for _ in range(1000):\n",
    "    # cyperm = PyPermutation(p)\n",
    "    # for _ in range(0):\n",
    "    #     cyperm.push_job(0)\n",
    "    cyperm.lower_bound_2m()\n",
    "\n",
    "print(time.time() - s)"
   ]
  },
  {
   "cell_type": "code",
   "execution_count": 15,
   "metadata": {},
   "outputs": [
    {
     "name": "stdout",
     "output_type": "stream",
     "text": [
      "0.35799694061279297\n"
     ]
    }
   ],
   "source": [
    "import time\n",
    "\n",
    "s = time.time()\n",
    "\n",
    "for _ in range(1000):\n",
    "    # pjobs = [\n",
    "    #     Job(i, p[i], [0] * len(p[i]), [0] * len(p[i]), [[]])\n",
    "    #     for i in range(len(p))\n",
    "    # ]\n",
    "    # for job in pjobs:\n",
    "    #     job.fill_start(len(p[0]))\n",
    "\n",
    "    # pperm = Permutation(len(p[0]), pjobs)\n",
    "    # for _ in range(0):\n",
    "    #     pperm.push_job(0)\n",
    "    pperm.lower_bound_2m()\n",
    "\n",
    "print(time.time() - s)"
   ]
  },
  {
   "cell_type": "code",
   "execution_count": null,
   "metadata": {},
   "outputs": [],
   "source": [
    "cyperm.get_sequence()"
   ]
  },
  {
   "cell_type": "code",
   "execution_count": null,
   "metadata": {},
   "outputs": [],
   "source": [
    "cyperm.perm.sigma1.jobs"
   ]
  },
  {
   "cell_type": "code",
   "execution_count": null,
   "metadata": {},
   "outputs": [],
   "source": [
    "pperm.sequence"
   ]
  },
  {
   "cell_type": "code",
   "execution_count": null,
   "metadata": {},
   "outputs": [],
   "source": [
    "pperm.lower_bound_2m()"
   ]
  },
  {
   "cell_type": "code",
   "execution_count": null,
   "metadata": {},
   "outputs": [],
   "source": [
    "p = [\n",
    "    [5, 9, 7, 4, 6, 9],\n",
    "    [9, 3, 3, 8, 5, 8],\n",
    "    [8, 10, 5, 6, 11, 2],\n",
    "    [1, 8, 6, 2, 8, 3],\n",
    "    [2, 8, 3, 2, 8, 3]\n",
    "]\n",
    "\n",
    "cjobs = [\n",
    "    CJob(i, p[i], [0] * len(p[i]), [0] * len(p[i]), [[]])\n",
    "    for i in range(len(p))\n",
    "]\n",
    "for job in cjobs:\n",
    "    job.fill_start(len(p[0]))\n",
    "\n",
    "pjobs = [\n",
    "    Job(i, p[i], [0] * len(p[i]), [0] * len(p[i]), [[]])\n",
    "    for i in range(len(p))\n",
    "]\n",
    "\n",
    "for job in pjobs:\n",
    "    job.fill_start(len(p[0]))"
   ]
  },
  {
   "cell_type": "code",
   "execution_count": null,
   "metadata": {},
   "outputs": [],
   "source": [
    "pjobs = [\n",
    "    Job(i, p[i], [0] * len(p[i]), [0] * len(p[i]), [[]])\n",
    "    for i in range(len(p))\n",
    "]\n",
    "\n",
    "pperm = Permutation(len(p[0]), pjobs)"
   ]
  },
  {
   "cell_type": "code",
   "execution_count": null,
   "metadata": {},
   "outputs": [],
   "source": [
    "cperm = CyPermutation(\n",
    "    len(p[0]),\n",
    "    cjobs,\n",
    "    CSigma1([], [0] * len(p[0])),\n",
    "    CSigma2([], [0] * len(p[0])),\n",
    "    0,\n",
    ")\n",
    "\n",
    "for _ in range(3):\n",
    "    cperm.push_job(0)"
   ]
  },
  {
   "cell_type": "code",
   "execution_count": null,
   "metadata": {},
   "outputs": [],
   "source": [
    "pperm = Permutation(len(p[0]), pjobs)\n",
    "\n",
    "for _ in range(3):\n",
    "    pperm.push_job(0)"
   ]
  },
  {
   "cell_type": "code",
   "execution_count": null,
   "metadata": {},
   "outputs": [],
   "source": [
    "import time\n",
    "\n",
    "s = time.time()\n",
    "\n",
    "for i in range(1000):\n",
    "    cperm.calc_lb_2m()\n",
    "\n",
    "print(time.time() - s)"
   ]
  },
  {
   "cell_type": "code",
   "execution_count": null,
   "metadata": {},
   "outputs": [],
   "source": [
    "import time\n",
    "\n",
    "s = time.time()\n",
    "\n",
    "for i in range(1000):\n",
    "    pperm.calc_lb_2m()\n",
    "\n",
    "print(time.time() - s)"
   ]
  },
  {
   "cell_type": "code",
   "execution_count": null,
   "metadata": {},
   "outputs": [],
   "source": [
    "import time\n",
    "\n",
    "p = [\n",
    "    [5, 9, 7, 4],\n",
    "    [9, 3, 3, 8],\n",
    "    [8, 10, 5, 6],\n",
    "    [1, 8, 6, 2]\n",
    "]\n",
    "\n",
    "start = time.time()\n",
    "\n",
    "for _ in range(1000):\n",
    "\n",
    "    cjobs = [\n",
    "        CJob(i, p[i], [0] * len(p[i]), [0] * len(p[i]), [[]])\n",
    "        for i in range(len(p))\n",
    "    ]\n",
    "\n",
    "    cperm = CyPermutation(\n",
    "        len(p[0]),\n",
    "        cjobs,\n",
    "        CSigma1([], [0] * len(p[0])),\n",
    "        CSigma2([], [0] * len(p[0])),\n",
    "        0,\n",
    "    )\n",
    "\n",
    "    for xx in range(4):\n",
    "        cperm.push_job(0)\n",
    "\n",
    "print(time.time() - start)"
   ]
  },
  {
   "cell_type": "code",
   "execution_count": null,
   "metadata": {},
   "outputs": [],
   "source": [
    "import time\n",
    "\n",
    "p = [\n",
    "    [5, 9, 7, 4],\n",
    "    [9, 3, 3, 8],\n",
    "    [8, 10, 5, 6],\n",
    "    [1, 8, 6, 2]\n",
    "]\n",
    "\n",
    "start = time.time()\n",
    "\n",
    "for _ in range(1000):\n",
    "\n",
    "    pjobs = [\n",
    "        Job(i, p[i], [0] * len(p[i]), [0] * len(p[i]), [[]])\n",
    "        for i in range(len(p))\n",
    "    ]\n",
    "\n",
    "    pperm = Permutation(len(p[0]), pjobs)\n",
    "\n",
    "    for xx in range(4):\n",
    "        pperm.push_job(0)\n",
    "\n",
    "print(time.time() - start)"
   ]
  },
  {
   "cell_type": "code",
   "execution_count": null,
   "metadata": {},
   "outputs": [],
   "source": [
    "import time\n",
    "\n",
    "start = time.time()\n",
    "\n",
    "for _ in range(1000000):\n",
    "    pperm.calc_lb_1m()\n",
    "\n",
    "print(time.time() - start)"
   ]
  },
  {
   "cell_type": "code",
   "execution_count": null,
   "metadata": {},
   "outputs": [],
   "source": [
    "i = 0\n",
    "job = Job(i, p[i], [0] * len(p[i]), [0] * len(p[i]), [[]])\n",
    "job = Job(i, p[i], [0] * len(p[i]), [0] * len(p[i]), [[]])"
   ]
  },
  {
   "cell_type": "code",
   "execution_count": null,
   "metadata": {},
   "outputs": [],
   "source": [
    "c = CSigma2([], [0] * len(p[0]))\n",
    "c = CSigma2([], [0] * len(p[0]))"
   ]
  },
  {
   "cell_type": "code",
   "execution_count": null,
   "metadata": {},
   "outputs": [],
   "source": [
    "import time\n",
    "\n",
    "s = time.time()\n",
    "\n",
    "for _ in range(3):\n",
    "\n",
    "    print(\"here\")\n",
    "\n",
    "    cjobs = [\n",
    "        CJob(i, p[i], [0] * len(p[i]), [0] * len(p[i]), [[]])\n",
    "        for i in range(len(p))\n",
    "    ]\n",
    "\n",
    "    print(\"2\")\n",
    "\n",
    "    x = []\n",
    "    C = [0] * len(p[0])\n",
    "    c = CSigma2(x, C)\n",
    "\n",
    "    print(\"3\")\n",
    "\n",
    "    for i in range(len(cjobs)):\n",
    "        c.pyadd_job(cjobs[i])\n",
    "        print(\"4\", i)\n",
    "\n",
    "    print(c.get_C())\n",
    "\n",
    "    print(time.time() - s)"
   ]
  },
  {
   "cell_type": "code",
   "execution_count": null,
   "metadata": {},
   "outputs": [],
   "source": [
    "c.pycopy().jobs"
   ]
  },
  {
   "cell_type": "code",
   "execution_count": null,
   "metadata": {},
   "outputs": [],
   "source": [
    "c.jobs"
   ]
  },
  {
   "cell_type": "code",
   "execution_count": null,
   "metadata": {},
   "outputs": [],
   "source": [
    "csigma2 = CSigma2([], [0] * len(p[0]))"
   ]
  },
  {
   "cell_type": "code",
   "execution_count": null,
   "metadata": {},
   "outputs": [],
   "source": [
    "import time\n",
    "\n",
    "for _ in range(3):\n",
    "\n",
    "    s = time.time()\n",
    "\n",
    "    psigma = Sigma2([], [0] * len(p[0]))\n",
    "\n",
    "    for i in range(len(pjobs)):\n",
    "        psigma.add_job(pjobs[i])\n",
    "\n",
    "    print(psigma.C)\n",
    "\n",
    "    print(time.time() - s)"
   ]
  },
  {
   "cell_type": "code",
   "execution_count": null,
   "metadata": {},
   "outputs": [],
   "source": [
    "psigma = Sigma2([], [0] * len(p[0]))\n",
    "\n",
    "for i in range(len(pjobs)):\n",
    "    psigma.add_job(pjobs[i])"
   ]
  },
  {
   "cell_type": "code",
   "execution_count": null,
   "metadata": {},
   "outputs": [],
   "source": [
    "import time\n",
    "\n",
    "s = time.time()\n",
    "\n",
    "csigma = CSigma2([], [0] * len(p[0]))\n",
    "\n",
    "for i in range(len(pjobs)):\n",
    "    csigma.pyadd_job(cjobs[i])\n",
    "\n",
    "print(time.time() - s)"
   ]
  },
  {
   "cell_type": "code",
   "execution_count": null,
   "metadata": {},
   "outputs": [],
   "source": [
    "csigma.get_C()"
   ]
  },
  {
   "cell_type": "code",
   "execution_count": null,
   "metadata": {},
   "outputs": [],
   "source": [
    "psigma.add_job(pjobs[0])"
   ]
  },
  {
   "cell_type": "code",
   "execution_count": null,
   "metadata": {},
   "outputs": [],
   "source": [
    "psigma.C"
   ]
  },
  {
   "cell_type": "code",
   "execution_count": null,
   "metadata": {},
   "outputs": [],
   "source": [
    "j = CJob(0, [5, 9, 13, 17, 3], [], [], [[]])"
   ]
  },
  {
   "cell_type": "code",
   "execution_count": null,
   "metadata": {},
   "outputs": [],
   "source": []
  },
  {
   "cell_type": "code",
   "execution_count": null,
   "metadata": {},
   "outputs": [],
   "source": [
    "j.pyfill_start(5)"
   ]
  },
  {
   "cell_type": "code",
   "execution_count": null,
   "metadata": {},
   "outputs": [],
   "source": [
    "j2 = Job(0, [5, 9, 13, 17, 3], [], [], [[]])"
   ]
  },
  {
   "cell_type": "code",
   "execution_count": null,
   "metadata": {},
   "outputs": [],
   "source": [
    "j2.fill_start(5)"
   ]
  },
  {
   "cell_type": "code",
   "execution_count": null,
   "metadata": {},
   "outputs": [],
   "source": [
    "j2.lat"
   ]
  },
  {
   "cell_type": "code",
   "execution_count": null,
   "metadata": {},
   "outputs": [],
   "source": [
    "j.get_lat()"
   ]
  },
  {
   "cell_type": "code",
   "execution_count": null,
   "metadata": {},
   "outputs": [],
   "source": [
    "j.get_lat() is i.get_lat()"
   ]
  },
  {
   "cell_type": "code",
   "execution_count": 13,
   "metadata": {},
   "outputs": [],
   "source": [
    "import random\n",
    "\n",
    "from bnbprob.pfssp import LazyBnB, PermFlowShop, PermFlowShopLazy, plot_gantt\n",
    "from bnbpy import configure_logfile, plot_tree"
   ]
  },
  {
   "cell_type": "code",
   "execution_count": 14,
   "metadata": {},
   "outputs": [],
   "source": [
    "from bnbprob.pfssp.cython.problem import PermFlowShopLazy as CyPermFlowShopLazy"
   ]
  },
  {
   "cell_type": "code",
   "execution_count": 15,
   "metadata": {},
   "outputs": [],
   "source": [
    "configure_logfile(\"pfssp.log\", mode=\"w\")"
   ]
  },
  {
   "cell_type": "code",
   "execution_count": 16,
   "metadata": {},
   "outputs": [],
   "source": [
    "random.seed(12)\n",
    "\n",
    "J = 4\n",
    "M = 4\n",
    "# p_choices = list(range(5, 100))\n",
    "\n",
    "# p = [\n",
    "#     [\n",
    "#         random.choice(p_choices)\n",
    "#         for _ in range(M)\n",
    "#     ]\n",
    "#     for _ in range(J)\n",
    "# ]\n",
    "\n",
    "p = [\n",
    "    [5, 9, 7, 4],\n",
    "    [9, 3, 3, 8],\n",
    "    [8, 10, 5, 6],\n",
    "    [1, 8, 6, 2]\n",
    "]\n",
    "\n",
    "p = [\n",
    "    [5, 4, 6],\n",
    "    [5, 4, 5],\n",
    "    [3, 2, 3],\n",
    "    [3, 4, 2]\n",
    "]\n",
    "\n",
    "p = [\n",
    "    [5, 9, 7, 4, 6, 9, 14, 4],\n",
    "    [9, 3, 3, 8, 5, 8, 5, 4],\n",
    "    [8, 10, 5, 6, 11, 2, 11, 6],\n",
    "    [1, 8, 6, 2, 8, 3, 3, 4],\n",
    "    [2, 8, 3, 2, 8, 3, 5, 2],\n",
    "    [12, 8, 6, 2, 4, 3, 6, 12],\n",
    "    [1, 8, 4, 2, 7, 3, 4, 7],\n",
    "]"
   ]
  },
  {
   "cell_type": "code",
   "execution_count": 17,
   "metadata": {},
   "outputs": [],
   "source": [
    "problem = CyPermFlowShopLazy.from_p(p)\n",
    "bnb = LazyBnB(eval_node=\"in\", rtol=0.0001)"
   ]
  },
  {
   "cell_type": "code",
   "execution_count": 18,
   "metadata": {},
   "outputs": [
    {
     "data": {
      "text/plain": [
       "<bnbprob.pfssp.cython.problem.PermFlowShopLazy at 0x25974129c10>"
      ]
     },
     "execution_count": 18,
     "metadata": {},
     "output_type": "execute_result"
    }
   ],
   "source": [
    "problem._child_push(6)"
   ]
  },
  {
   "cell_type": "code",
   "execution_count": 19,
   "metadata": {},
   "outputs": [
    {
     "data": {
      "text/plain": [
       "7"
      ]
     },
     "execution_count": 19,
     "metadata": {},
     "output_type": "execute_result"
    }
   ],
   "source": [
    "problem.solution.n_free"
   ]
  },
  {
   "cell_type": "code",
   "execution_count": 20,
   "metadata": {},
   "outputs": [
    {
     "name": "stdout",
     "output_type": "stream",
     "text": [
      "Status: OPTIMAL | Cost: 91 | LB: 91\n"
     ]
    }
   ],
   "source": [
    "sol = bnb.solve(problem, maxiter=50000)\n",
    "print(sol)"
   ]
  },
  {
   "cell_type": "code",
   "execution_count": 7,
   "metadata": {},
   "outputs": [],
   "source": [
    "problem_sm = CyPermFlowShopLazy.from_p(p)\n",
    "bnb_sm = LazyBnB(eval_node=\"in\", rtol=0.0001)"
   ]
  },
  {
   "cell_type": "code",
   "execution_count": 8,
   "metadata": {},
   "outputs": [
    {
     "ename": "",
     "evalue": "",
     "output_type": "error",
     "traceback": [
      "\u001b[1;31mThe Kernel crashed while executing code in the current cell or a previous cell. \n",
      "\u001b[1;31mPlease review the code in the cell(s) to identify a possible cause of the failure. \n",
      "\u001b[1;31mClick <a href='https://aka.ms/vscodeJupyterKernelCrash'>here</a> for more info. \n",
      "\u001b[1;31mView Jupyter <a href='command:jupyter.viewOutput'>log</a> for further details."
     ]
    }
   ],
   "source": [
    "sol_sm = bnb_sm.solve(\n",
    "    problem_sm, maxiter=50000\n",
    ")\n",
    "print(sol_sm)"
   ]
  },
  {
   "cell_type": "code",
   "execution_count": null,
   "metadata": {},
   "outputs": [],
   "source": [
    "plot_gantt(sol_sm.sequence, dpi=120, seed=42, figsize=[8, 3])"
   ]
  },
  {
   "cell_type": "code",
   "execution_count": null,
   "metadata": {},
   "outputs": [],
   "source": [
    "x = [0, 1, 2]\n",
    "x[:0]"
   ]
  },
  {
   "cell_type": "code",
   "execution_count": null,
   "metadata": {},
   "outputs": [],
   "source": [
    "plot_tree(bnb.root, figsize=[8, 8], font_size=10)"
   ]
  },
  {
   "cell_type": "markdown",
   "metadata": {},
   "source": [
    "In this implmentation lower bounds are computed by\n",
    "the max of a single machine and\n",
    "a two machine relaxations.\n",
    "\n",
    "The bounds for single and two-machine problems are described\n",
    "by Potts (1980), also implemented by Ladhari & Haouari (2005),\n",
    "therein described as 'LB1' and 'LB5'.\n",
    "\n",
    "The warmstart strategy is proposed by Palmer (1965).\n",
    "\n",
    "## References\n",
    "\n",
    "Ladhari, T., & Haouari, M. (2005). A computational study of\n",
    "the permutation flow shop problem based on a tight lower bound.\n",
    "Computers & Operations Research, 32(7), 1831-1847.\n",
    "\n",
    "Potts, C. N. (1980). An adaptive branching rule for the permutation\n",
    "flow-shop problem. European Journal of Operational Research, 5(1), 19-25.\n",
    "\n",
    "Palmer, D. S. (1965). Sequencing jobs through a multi-stage process\n",
    "in the minimum total time—a quick method of obtaining a near optimum.\n",
    "Journal of the Operational Research Society, 16(1), 101-107"
   ]
  },
  {
   "cell_type": "markdown",
   "metadata": {},
   "source": [
    "## Bonus - MILP Model\n",
    "\n",
    "This is the usual Disjunctive MILP model as an alternative to compare performance.\n",
    "\n",
    "In experiments with 15 jobs and 8 machines, the Lazy implementation solved in 24s whereas with a time limit of 120s Gurobi could not reach the optimal solution (with a MIP gap of nearly 25%).\n",
    "\n",
    "```python\n",
    "import pyomo.environ as pyo\n",
    "\n",
    "model = pyo.ConcreteModel()\n",
    "\n",
    "# Sets for machines, jobs, horizon, and job sequences\n",
    "model.M = pyo.Set(initialize=range(len(p[0])))\n",
    "model.J = pyo.Set(initialize=range(len(p)))\n",
    "\n",
    "# Parameters\n",
    "model.p = pyo.Param(model.J, model.M, initialize=lambda _, m, j: p[m][j])\n",
    "model.V = pyo.Param(initialize=sum(pim for pi in p for pim in pi))\n",
    "\n",
    "# Variables\n",
    "model.x = pyo.Var(model.J, model.M, within=pyo.NonNegativeReals)\n",
    "model.z = pyo.Var(model.J, model.J, within=pyo.Binary)\n",
    "model.C = pyo.Var(within=pyo.NonNegativeReals)\n",
    "\n",
    "\n",
    "# Constraints\n",
    "def cstr_seq(model, j, m):\n",
    "    if m == model.M.last():\n",
    "        return pyo.Constraint.Skip\n",
    "    return model.x[j, m] + model.p[j, m] <= model.x[j, m + 1]\n",
    "\n",
    "\n",
    "def cstr_precede(model, j, k, m):\n",
    "    return model.x[j, m] + model.p[j, m] <= model.x[k, m] + model.V * (\n",
    "        1 - model.z[j, k]\n",
    "    )\n",
    "\n",
    "\n",
    "def cstr_comp_precede(model, j, k):\n",
    "    if j == k:\n",
    "        return model.z[j, k] + model.z[k, j] == 0.0\n",
    "    return model.z[j, k] + model.z[k, j] == 1.0\n",
    "\n",
    "\n",
    "def cstr_total_time(model, j, m):\n",
    "    return model.x[j, m] + model.p[j, m] <= model.C\n",
    "\n",
    "\n",
    "model.cstr_seq = pyo.Constraint(model.J, model.M, rule=cstr_seq)\n",
    "model.cstr_precede = pyo.Constraint(\n",
    "    model.J, model.J, model.M, rule=cstr_precede\n",
    ")\n",
    "model.cstr_comp_precede = pyo.Constraint(\n",
    "    model.J, model.J, rule=cstr_comp_precede\n",
    ")\n",
    "model.cstr_total_time = pyo.Constraint(model.J, model.M, rule=cstr_total_time)\n",
    "\n",
    "\n",
    "# Objective\n",
    "model.obj = pyo.Objective(expr=model.C, sense=pyo.minimize)\n",
    "\n",
    "# HiGHS\n",
    "solver = pyo.SolverFactory(\"appsi_highs\")\n",
    "solver.options[\"mip_heuristic_effort\"] = 0.1\n",
    "solver.options[\"time_limit\"] = 120\n",
    "solver.options[\"log_file\"] = \"Highs.log\"\n",
    "solver.solve(model, tee=True)\n",
    "\n",
    "# Gurobi\n",
    "solver = pyo.SolverFactory(\"gurobi\", solver_io=\"python\")\n",
    "solver.options[\"Heuristics\"] = 0.2\n",
    "solver.options[\"Cuts\"] = 2\n",
    "solver.options[\"TimeLimit\"] = 120\n",
    "solver.solve(model, tee=True)\n",
    "```"
   ]
  }
 ],
 "metadata": {
  "kernelspec": {
   "display_name": ".venv",
   "language": "python",
   "name": "python3"
  },
  "language_info": {
   "codemirror_mode": {
    "name": "ipython",
    "version": 3
   },
   "file_extension": ".py",
   "mimetype": "text/x-python",
   "name": "python",
   "nbconvert_exporter": "python",
   "pygments_lexer": "ipython3",
   "version": "3.11.9"
  }
 },
 "nbformat": 4,
 "nbformat_minor": 2
}
