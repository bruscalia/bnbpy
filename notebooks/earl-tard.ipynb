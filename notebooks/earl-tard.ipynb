{
 "cells": [
  {
   "cell_type": "code",
   "execution_count": 1,
   "metadata": {},
   "outputs": [],
   "source": [
    "import copy\n",
    "from dataclasses import dataclass\n",
    "from typing import List, Optional"
   ]
  },
  {
   "cell_type": "code",
   "execution_count": 2,
   "metadata": {},
   "outputs": [],
   "source": [
    "@dataclass\n",
    "class Job:\n",
    "    index: int\n",
    "    p: int\n",
    "    C: Optional[int] = None\n",
    "\n",
    "    def __repr__(self) -> str:\n",
    "        return f'J({self.index})'\n",
    "\n",
    "    def copy(self):\n",
    "        return copy.copy(self)\n",
    "\n",
    "\n",
    "@dataclass\n",
    "class InstanceSeq:\n",
    "    d: int\n",
    "    jobs: List[Job]\n",
    "\n",
    "\n",
    "class Sequence:\n",
    "    def __init__(self) -> None:\n",
    "        self.J1 = []\n",
    "        self.J2 = []\n",
    "\n",
    "    @property\n",
    "    def jobs(self) -> List[Job]:\n",
    "        return self.J1 + self.J2\n",
    "\n",
    "    def append_front(self, job: Job):\n",
    "        self.J1.append(job)\n",
    "\n",
    "    def append_back(self, job: Job):\n",
    "        self.J2.insert(0, job)\n",
    "\n",
    "    def best_insert_front(self, job: Job):\n",
    "        if len(self.J1) == 0:\n",
    "            self.J1 = [job]\n",
    "            return\n",
    "        for i in range(len(self.J1)):\n",
    "            if self.J1[i].p <= job.p:\n",
    "                self.J1.insert(i, job)\n",
    "                return\n",
    "        self.J1.append(job)\n",
    "\n",
    "    def best_insert_back(self, job: Job):\n",
    "        if len(self.J2) == 0:\n",
    "            self.J2 = [job]\n",
    "            return\n",
    "        for i in range(len(self.J2)):\n",
    "            if self.J2[i].p >= job.p:\n",
    "                self.J2.insert(i, job)\n",
    "                return\n",
    "        self.J2.append(job)\n",
    "\n",
    "    def __repr__(self) -> str:\n",
    "        return str(self.jobs)\n",
    "\n",
    "\n",
    "@dataclass\n",
    "class Solution:\n",
    "    cost: int\n",
    "    seq: Sequence"
   ]
  },
  {
   "cell_type": "code",
   "execution_count": 3,
   "metadata": {},
   "outputs": [],
   "source": [
    "def comp_cost(instance: InstanceSeq, sol: Sequence):\n",
    "    cost = 0\n",
    "    C = 0\n",
    "    for j in sol.jobs:\n",
    "        C += j.p\n",
    "        j.C = C\n",
    "        if C <= instance.d:\n",
    "            cost += instance.d - C\n",
    "        else:\n",
    "            cost += C - instance.d\n",
    "    return Solution(cost=cost, seq=sol)\n",
    "\n",
    "\n",
    "def heuristic(instance: InstanceSeq) -> Solution:\n",
    "    queue = instance.jobs.copy()\n",
    "    queue.sort(key=lambda x: x.p, reverse=True)\n",
    "    sol = Sequence()\n",
    "    tao1 = instance.d\n",
    "    tao2 = sum(j.p for j in queue) - instance.d\n",
    "    while len(queue) > 0:\n",
    "        job = queue.pop(0)\n",
    "        if tao1 >= tao2:\n",
    "            sol.append_front(job)\n",
    "            tao1 -= job.p\n",
    "        else:\n",
    "            sol.append_back(job)\n",
    "            tao2 -= job.p\n",
    "    return comp_cost(instance, sol)"
   ]
  },
  {
   "cell_type": "code",
   "execution_count": 4,
   "metadata": {},
   "outputs": [],
   "source": [
    "p = [18, 16, 16, 14, 12, 11, 11, 8, 7, 5, 3, 2]\n",
    "jobs = [Job(i, pi) for i, pi in enumerate(p)]\n",
    "instance = InstanceSeq(d=42, jobs=jobs)"
   ]
  },
  {
   "cell_type": "code",
   "execution_count": 5,
   "metadata": {},
   "outputs": [
    {
     "name": "stdout",
     "output_type": "stream",
     "text": [
      "308\n",
      "[J(3), J(5), J(7), J(8), J(11), J(10), J(9), J(6), J(4), J(2), J(1), J(0)]\n",
      "[14, 11, 8, 7, 2, 3, 5, 11, 12, 16, 16, 18]\n",
      "[14, 25, 33, 40, 42, 45, 50, 61, 73, 89, 105, 123]\n",
      "[28, 17, 9, 2, 0, 3, 8, 19, 31, 47, 63, 81]\n",
      "308\n"
     ]
    }
   ],
   "source": [
    "sol = heuristic(instance)\n",
    "print(sol.cost)\n",
    "print(sol.seq)\n",
    "print([j.p for j in sol.seq.jobs])\n",
    "print([j.C for j in sol.seq.jobs])\n",
    "print([max(0, j.C - instance.d, instance.d - j.C) for j in sol.seq.jobs])\n",
    "print(sum(max(0, j.C - instance.d, instance.d - j.C) for j in sol.seq.jobs))"
   ]
  },
  {
   "cell_type": "code",
   "execution_count": 6,
   "metadata": {},
   "outputs": [],
   "source": [
    "def move10(instance: InstanceSeq, sol: Solution, k1):\n",
    "    seq_alt = copy.deepcopy(sol.seq)\n",
    "    j1 = seq_alt.J1.pop(k1)\n",
    "    seq_alt.best_insert_back(j1)\n",
    "    return comp_cost(instance, seq_alt)\n",
    "\n",
    "\n",
    "def move01(instance: InstanceSeq, sol: Solution, k2):\n",
    "    seq_alt = copy.deepcopy(sol.seq)\n",
    "    j2 = seq_alt.J2.pop(k2)\n",
    "    seq_alt.best_insert_front(j2)\n",
    "    return comp_cost(instance, seq_alt)\n",
    "\n",
    "\n",
    "def move11(instance: InstanceSeq, sol: Solution, k1, k2):\n",
    "    seq_alt = copy.deepcopy(sol.seq)\n",
    "    j1 = seq_alt.J1.pop(k1)\n",
    "    j2 = seq_alt.J2.pop(k2)\n",
    "    seq_alt.best_insert_back(j1)\n",
    "    seq_alt.best_insert_front(j2)\n",
    "    return comp_cost(instance, seq_alt)\n",
    "\n",
    "\n",
    "def best_improvement(instance: InstanceSeq, sol: Solution):\n",
    "    best_sol = sol\n",
    "    for k1 in range(len(sol.seq.J1)):\n",
    "        sol_alt = move10(instance, sol, k1)\n",
    "        if sol_alt.cost < best_sol.cost:\n",
    "            best_sol = sol_alt\n",
    "    for k2 in range(len(sol.seq.J2)):\n",
    "        sol_alt = move01(instance, sol, k2)\n",
    "        if sol_alt.cost < best_sol.cost:\n",
    "            best_sol = sol_alt\n",
    "    for k1 in range(len(sol.seq.J1)):\n",
    "        for k2 in range(len(sol.seq.J2)):\n",
    "            sol_alt = move11(instance, sol, k1, k2)\n",
    "            if sol_alt.cost < best_sol.cost:\n",
    "                best_sol = sol_alt\n",
    "    return best_sol"
   ]
  },
  {
   "cell_type": "code",
   "execution_count": 7,
   "metadata": {},
   "outputs": [
    {
     "name": "stdout",
     "output_type": "stream",
     "text": [
      "Solution(cost=308, seq=[J(3), J(5), J(7), J(8), J(11), J(10), J(9), J(6), J(4), J(2), J(1), J(0)])\n"
     ]
    }
   ],
   "source": [
    "best_sol = best_improvement(instance, sol)\n",
    "print(best_sol)"
   ]
  },
  {
   "cell_type": "code",
   "execution_count": 8,
   "metadata": {},
   "outputs": [],
   "source": [
    "from pydantic import ValidationError"
   ]
  },
  {
   "cell_type": "code",
   "execution_count": 10,
   "metadata": {},
   "outputs": [
    {
     "data": {
      "text/plain": [
       "True"
      ]
     },
     "execution_count": 10,
     "metadata": {},
     "output_type": "execute_result"
    }
   ],
   "source": [
    "issubclass(ValidationError, ValueError)"
   ]
  },
  {
   "cell_type": "code",
   "execution_count": null,
   "metadata": {},
   "outputs": [],
   "source": []
  }
 ],
 "metadata": {
  "kernelspec": {
   "display_name": "venv",
   "language": "python",
   "name": "python3"
  },
  "language_info": {
   "codemirror_mode": {
    "name": "ipython",
    "version": 3
   },
   "file_extension": ".py",
   "mimetype": "text/x-python",
   "name": "python",
   "nbconvert_exporter": "python",
   "pygments_lexer": "ipython3",
   "version": "3.11.9"
  }
 },
 "nbformat": 4,
 "nbformat_minor": 2
}
